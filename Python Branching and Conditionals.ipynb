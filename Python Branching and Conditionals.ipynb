{
 "cells": [
  {
   "cell_type": "markdown",
   "id": "0b216878",
   "metadata": {},
   "source": [
    "# Branching Using Conditionals and Loops"
   ]
  },
  {
   "cell_type": "markdown",
   "id": "e6dca73d",
   "metadata": {},
   "source": [
    " Branching is the ability to make decisions and execute a different set of statements based on whether one or more conditions are true.\n",
    " \n",
    " Brsnching is done using an if statement\n",
    " \n",
    " ## If statement format\n",
    " \n",
    " if condition:\n",
    "     statement1\n",
    "     statement2\n",
    "     \n",
    "  The condition can either be a variable or an expression.\n",
    "  \n",
    "  If the condition evaluates to true then the statements within the if block are executed."
   ]
  },
  {
   "cell_type": "code",
   "execution_count": 1,
   "id": "ededc645",
   "metadata": {},
   "outputs": [
    {
     "name": "stdout",
     "output_type": "stream",
     "text": [
      "We're inside an if block\n",
      "The given number 8 is even.\n"
     ]
    }
   ],
   "source": [
    "# Example:\n",
    "\n",
    "a_number = 8\n",
    "\n",
    "if a_number % 2 == 0:\n",
    "    print('We\\'re inside an if block')\n",
    "    print('The given number {} is even.'.format(a_number))"
   ]
  },
  {
   "cell_type": "code",
   "execution_count": 2,
   "id": "9434cb4b",
   "metadata": {},
   "outputs": [],
   "source": [
    "# Another example. This time nothing will be printed because the condition is not true\n",
    "\n",
    "a_number = 33\n",
    "\n",
    "if a_number % 2 == 0:\n",
    "    print(' This is supposed to be an odd number, what happened?')"
   ]
  },
  {
   "cell_type": "markdown",
   "id": "c2041798",
   "metadata": {},
   "source": [
    "Nothing happened in the code above, the condition was not met. So, nothing was executed.\n",
    "\n",
    "When you want another code to become executed when the condition for the if statement is not met, you include the (else) statement.\n",
    "\n",
    "## else statement.\n",
    "\n",
    "### Format of the else statement.\n",
    "\n",
    "else:\n",
    "    statement to be executed if the condition of the if statement is not met.\n",
    "    "
   ]
  },
  {
   "cell_type": "code",
   "execution_count": 5,
   "id": "0fdd472e",
   "metadata": {},
   "outputs": [
    {
     "name": "stdout",
     "output_type": "stream",
     "text": [
      "33, is an odd number any way.\n"
     ]
    }
   ],
   "source": [
    "# let's see what happens to the code above when we include else.\n",
    "\n",
    "a_number = 33\n",
    "\n",
    "if a_number % 2 == 0:\n",
    "    print(' This is supposed to be an odd number, what happened?')\n",
    "    \n",
    "else:\n",
    "    print('{}, is an odd number any way.'.format(a_number))"
   ]
  },
  {
   "cell_type": "markdown",
   "id": "3b2f0231",
   "metadata": {},
   "source": [
    "# The elif statement\n",
    "\n",
    "elif is short for else if. It is used to chain a series of conditional blocks. The conditions are executed one by one.\n",
    "\n",
    "For the first condition that evaluates to True the statements in the respective block are executed, and the remaining conditions are not evaluated.\n",
    "\n"
   ]
  },
  {
   "cell_type": "code",
   "execution_count": 14,
   "id": "effae1c6",
   "metadata": {},
   "outputs": [
    {
     "name": "stdout",
     "output_type": "stream",
     "text": [
      "Here you go Hendo, Gerrards successor, wonderful human\n"
     ]
    }
   ],
   "source": [
    "# Example\n",
    "\n",
    "liverpool_captain = 'Henderson'\n",
    "\n",
    "if liverpool_captain == 'TAA':\n",
    "    print('oh la la, go go Trent, the best RB in the world')\n",
    "    \n",
    "elif liverpool_captain == 'Robertson':\n",
    "    print('Come on you Scotsman')\n",
    "\n",
    "elif liverpool_captain == 'Van Dijk':\n",
    "    print('Hello big man')\n",
    "\n",
    "elif liverpool_captain == 'Henderson':\n",
    "    print('Here you go Hendo, Gerrards successor, wonderful human')\n",
    "    \n",
    "elif liverpool_captain == 'Milner':\n",
    "    print('He never get\\'s old, Milner, does he?')\n",
    "    \n",
    "elif liverpool_captain == 'Salah':\n",
    "    print('Hail the Egyptian King')"
   ]
  },
  {
   "cell_type": "markdown",
   "id": "0f6cc4d6",
   "metadata": {},
   "source": [
    "# Using if, elif, and else conditions together.\n",
    "\n",
    "You can use an else statement at the end of a chain of if, elif statements.\n",
    "\n",
    "The else code block will be executed when none  of the conditions for the if and else statmenents are true."
   ]
  },
  {
   "cell_type": "code",
   "execution_count": 15,
   "id": "748e4c00",
   "metadata": {},
   "outputs": [
    {
     "name": "stdout",
     "output_type": "stream",
     "text": [
      "All checks failed!\n",
      "49 is not divisible by 2, 3, and 5\n"
     ]
    }
   ],
   "source": [
    "# Example:\n",
    "\n",
    "a_number = 49\n",
    "\n",
    "if a_number % 2 == 0:\n",
    "    print('{} is divisible by 2'.format(a_number))\n",
    "elif a_number % 3 == 0:\n",
    "    print('{} is divisible by 3'.format(a_number))\n",
    "elif a_number % 5 == 0:\n",
    "    print('{} is divisible by 5'.format(a_number))\n",
    "    \n",
    "else:\n",
    "    print('All checks failed!')\n",
    "    print('{} is not divisible by 2, 3, and 5'.format(a_number))"
   ]
  },
  {
   "cell_type": "markdown",
   "id": "15d54117",
   "metadata": {},
   "source": [
    "# Including Logical operators, And, Or, and Not as a condition for statements.\n",
    "\n",
    "You can include logical operators as conditions to be met before a statement executes in python branching.\n",
    "\n"
   ]
  },
  {
   "cell_type": "code",
   "execution_count": 16,
   "id": "5dde9bc6",
   "metadata": {},
   "outputs": [
    {
     "name": "stdout",
     "output_type": "stream",
     "text": [
      "The number 12 is not divisible by 5\n"
     ]
    }
   ],
   "source": [
    "# Example:\n",
    "\n",
    "a_number = 12\n",
    "\n",
    "if a_number % 3 == 0 and a_number % 5 == 0:\n",
    "    print('The number {} is divisible by 3 and 5'.format(a_number))\n",
    "elif not a_number % 5 == 0:\n",
    "    print('The number {} is not divisible by 5'.format(a_number))"
   ]
  },
  {
   "cell_type": "markdown",
   "id": "c360da9a",
   "metadata": {},
   "source": [
    "# There are also Non-Boolean Conditions.\n",
    "\n",
    "Conditions can be of any data type, and must not necessarily be boolean.\n",
    "\n",
    "Falsy booleans are always evaluated to False.\n",
    "\n",
    "Every conditional type is automatically converted to Boolean before execution. \n",
    "\n",
    "Below are some examples:"
   ]
  },
  {
   "cell_type": "code",
   "execution_count": 17,
   "id": "cf7e898d",
   "metadata": {},
   "outputs": [
    {
     "name": "stdout",
     "output_type": "stream",
     "text": [
      "The condition evaluated to False\n"
     ]
    }
   ],
   "source": [
    "# Examples:\n",
    "\n",
    "# This is an empty string, and will evaluate to False\n",
    "\n",
    "if '':\n",
    "    print('The condition evaluated to True')\n",
    "    \n",
    "else:\n",
    "    print('The condition evaluated to False')"
   ]
  },
  {
   "cell_type": "code",
   "execution_count": 18,
   "id": "ee271518",
   "metadata": {},
   "outputs": [
    {
     "name": "stdout",
     "output_type": "stream",
     "text": [
      "The condition evaluated to True\n"
     ]
    }
   ],
   "source": [
    "# This is a string and will evaluate to True\n",
    "\n",
    "if 'Hello':\n",
    "    print('The condition evaluated to True')\n",
    "else:\n",
    "    print('The condition evaluated to False')"
   ]
  },
  {
   "cell_type": "code",
   "execution_count": 19,
   "id": "ca145dbb",
   "metadata": {},
   "outputs": [
    {
     "name": "stdout",
     "output_type": "stream",
     "text": [
      "The condition evaluated to True\n"
     ]
    }
   ],
   "source": [
    "# This dictionary is not empty and will evaluate to True\n",
    "\n",
    "{'a': 34}:\n",
    "    print('The condition evaluated to True')\n",
    "else:\n",
    "    print('The condition evaluated to False')"
   ]
  },
  {
   "cell_type": "code",
   "execution_count": 20,
   "id": "9e0925b0",
   "metadata": {},
   "outputs": [
    {
     "name": "stdout",
     "output_type": "stream",
     "text": [
      "The condition evaluated to False\n"
     ]
    }
   ],
   "source": [
    "# None is falsy and will evaluate to False\n",
    "if None:\n",
    "    print('The conditon evaluated to True')\n",
    "else:\n",
    "    print('The condition evaluated to False')"
   ]
  },
  {
   "cell_type": "markdown",
   "id": "9377a224",
   "metadata": {},
   "source": [
    "# Nested if statements\n",
    "\n",
    "You can put another if statement as a code block within another if statement.\n",
    "\n",
    "However you must use indentation properly to make this work.\n",
    "\n",
    "Here are some examples:"
   ]
  },
  {
   "cell_type": "code",
   "execution_count": 21,
   "id": "d524dd61",
   "metadata": {},
   "outputs": [
    {
     "name": "stdout",
     "output_type": "stream",
     "text": [
      "15 is odd\n",
      "15 is also divisible by 5\n"
     ]
    }
   ],
   "source": [
    "a_number = 15\n",
    "\n",
    "if a_number % 2 == 0:\n",
    "    print(' {} is even'.format(a_number))\n",
    "    if a_number % 3 == 0:\n",
    "        print('{} is also divisible by 3'.format(a_number))\n",
    "    else:\n",
    "        print('{} is not divisible by 3'.format(a_number) )\n",
    "        \n",
    "else:\n",
    "    print('{} is odd'.format(a_number))\n",
    "    if a_number % 5 == 0:\n",
    "        print('{} is also divisible by 5'.format(a_number))\n",
    "    else:\n",
    "        print('{} is not divisible by 5'.format(a_number))"
   ]
  },
  {
   "cell_type": "markdown",
   "id": "9e390a43",
   "metadata": {},
   "source": [
    "# Shorthand if statement, Conditional Expressions, Ternary Operators.\n",
    "\n",
    "You can use the if statement to test if a condition is true, and then set the value of a variable based on that condition.\n",
    "\n",
    "Here are some examples.\n",
    "\n"
   ]
  },
  {
   "cell_type": "code",
   "execution_count": 22,
   "id": "13bcf66c",
   "metadata": {},
   "outputs": [
    {
     "name": "stdout",
     "output_type": "stream",
     "text": [
      "The Number 13 is odd\n"
     ]
    }
   ],
   "source": [
    "a_number = 13\n",
    "\n",
    "if a_number % 2 == 0:\n",
    "    parity = 'even'\n",
    "else:\n",
    "    parity ='odd'\n",
    "    \n",
    "print('The Number {} is {}'.format(a_number, parity))"
   ]
  },
  {
   "cell_type": "markdown",
   "id": "5e64001a",
   "metadata": {},
   "source": [
    "# iteration with WHILE LOOPS\n",
    "\n",
    "While and for loops gives you the ability to run one or more statements multiple times. This is also known as iteration or looping.\n",
    "\n",
    "## While loop format\n",
    "\n",
    "while condition:\n",
    "    statement(s)\n",
    "\n",
    "The statements in the block under while are executed repeatedly as long as the condition remains True.\n",
    "\n",
    "If you there's a change in variable that causes the condition to become False, then the while loop will end.\n",
    "\n"
   ]
  },
  {
   "cell_type": "code",
   "execution_count": 38,
   "id": "daa47635",
   "metadata": {},
   "outputs": [
    {
     "name": "stdout",
     "output_type": "stream",
     "text": [
      "The factorial of 100 is 93326215443944152681699238856266700490715968264381621468592963895217599993229915608941463976156518286253697920827223758251185210916864000000000000000000000000\n"
     ]
    }
   ],
   "source": [
    "# Find the factorial of 100 using a while loop.\n",
    "\n",
    "result = 1\n",
    "\n",
    "i = 1\n",
    "\n",
    "while i <= 100:\n",
    "    result = result * i\n",
    "    i = i+1\n",
    "    \n",
    "print('The factorial of 100 is {}'.format(result))"
   ]
  },
  {
   "cell_type": "code",
   "execution_count": 53,
   "id": "baae4f3c",
   "metadata": {},
   "outputs": [
    {
     "name": "stdout",
     "output_type": "stream",
     "text": [
      "$\n",
      "$$\n",
      "$$$\n",
      "$$$$\n",
      "$$$$$\n",
      "$$$$$$\n",
      "$$$$$$$\n",
      "$$$$$$$$\n",
      "$$$$$$$$$\n",
      "$$$$$$$$$$\n",
      "$$$$$$$$$$$\n",
      "$$$$$$$$$$\n",
      "$$$$$$$$$\n",
      "$$$$$$$$\n",
      "$$$$$$$\n",
      "$$$$$$\n",
      "$$$$$\n",
      "$$$$\n",
      "$$$\n",
      "$$\n",
      "$\n"
     ]
    }
   ],
   "source": [
    "# lets print shapes with while loops.\n",
    "\n",
    "shape_block = '$'\n",
    "i = 1\n",
    "\n",
    "while i <= 10:\n",
    "    shape_block = '$'*i\n",
    "    i += 1\n",
    "    print(shape_block)\n",
    "    \n",
    "while i > 0:\n",
    "    shape_block = '$'*i\n",
    "    print(shape_block)\n",
    "    i = i-1"
   ]
  },
  {
   "cell_type": "code",
   "execution_count": 49,
   "id": "99801db5",
   "metadata": {},
   "outputs": [
    {
     "name": "stdout",
     "output_type": "stream",
     "text": [
      "*\n",
      "**\n",
      "***\n",
      "****\n",
      "*****\n",
      "******\n",
      "*******\n",
      "********\n",
      "*********\n",
      "**********\n",
      "***********\n",
      "**********\n",
      "*********\n",
      "********\n",
      "*******\n",
      "******\n",
      "*****\n",
      "****\n",
      "***\n",
      "**\n",
      "*\n"
     ]
    }
   ],
   "source": [
    "line = '*'\n",
    "max_length = 10\n",
    "\n",
    "while len(line) <= max_length:\n",
    "    print(line)\n",
    "    line += '*'\n",
    "    \n",
    "while len(line) > 0:\n",
    "    print(line)\n",
    "    line = line[: -1]\n",
    "    \n",
    "    "
   ]
  },
  {
   "cell_type": "code",
   "execution_count": 61,
   "id": "77d0e41f",
   "metadata": {},
   "outputs": [
    {
     "name": "stdout",
     "output_type": "stream",
     "text": [
      "*\n",
      "**\n",
      "***\n",
      "****\n",
      "*****\n",
      "******\n",
      "*******\n",
      "********\n",
      "*********\n",
      "**********\n"
     ]
    }
   ],
   "source": [
    "line = '*'\n",
    "\n",
    "max_length = 10\n",
    "\n",
    "while len(line) <= 10:\n",
    "    print(line)\n",
    "    line += '*'\n",
    "    \n",
    "    "
   ]
  },
  {
   "cell_type": "markdown",
   "id": "5aae309e",
   "metadata": {},
   "source": [
    "# Break and Continue in Python\n",
    "\n",
    "The break statement is used to stop the execution of a code in a loop and break out of the loop, even if the condition provided for the while loop is still True.\n",
    "\n"
   ]
  },
  {
   "cell_type": "code",
   "execution_count": 65,
   "id": "c8dcab87",
   "metadata": {},
   "outputs": [
    {
     "name": "stdout",
     "output_type": "stream",
     "text": [
      "Magic number 42 reached! Stopping execution...!\n",
      "i: 42\n",
      "result: 1\n"
     ]
    }
   ],
   "source": [
    "# Example:\n",
    "\n",
    "i = 1\n",
    "result = 1\n",
    "\n",
    "while i <= 100:\n",
    "    result *= 1\n",
    "    if i == 42:\n",
    "        print('Magic number 42 reached! Stopping execution...!')\n",
    "        break\n",
    "    i += 1\n",
    "\n",
    "print('i:', i)\n",
    "print('result:' , result)"
   ]
  },
  {
   "cell_type": "markdown",
   "id": "c8528785",
   "metadata": {},
   "source": [
    "# Continue Statement\n",
    "\n",
    "The continue statement is used if you want to skip some statements in a loop and then continue from another loop.\n"
   ]
  },
  {
   "cell_type": "code",
   "execution_count": 66,
   "id": "df16f978",
   "metadata": {},
   "outputs": [
    {
     "name": "stdout",
     "output_type": "stream",
     "text": [
      "Skipping 2\n",
      "Multiplying with 3\n",
      "Skipping 4\n",
      "Multiplying with 5\n",
      "Skipping 6\n",
      "Multiplying with 7\n",
      "Skipping 8\n",
      "Multiplying with 9\n",
      "Skipping 10\n",
      "Multiplying with 11\n",
      "Skipping 12\n",
      "Multiplying with 13\n",
      "Skipping 14\n",
      "Multiplying with 15\n",
      "Skipping 16\n",
      "Multiplying with 17\n",
      "Skipping 18\n",
      "Multiplying with 19\n",
      "Skipping 20\n",
      "i: 20\n",
      "result: 654729075\n"
     ]
    }
   ],
   "source": [
    "i = 1\n",
    "result = 1\n",
    "\n",
    "while i < 20:\n",
    "    i += 1\n",
    "    if i % 2 == 0:\n",
    "        print('Skipping {}'.format(i))\n",
    "        continue\n",
    "    print('Multiplying with {}'.format(i))\n",
    "    result = result * i\n",
    "    \n",
    "print('i:', i)\n",
    "print('result:', result)"
   ]
  },
  {
   "cell_type": "markdown",
   "id": "917b6f96",
   "metadata": {},
   "source": [
    "# For Loops\n",
    "\n",
    "A for loop is used for iterating or looping over sequences like lists, tuples, dictionaries, strings, and ranges.\n",
    "\n",
    "## For Loop Sequences\n",
    "\n",
    "for value in sequence:\n",
    "    statement(s)\n",
    "\n",
    "The statements within the loop are executed once for each element in sequence. "
   ]
  },
  {
   "cell_type": "code",
   "execution_count": 69,
   "id": "5d5e107b",
   "metadata": {},
   "outputs": [
    {
     "name": "stdout",
     "output_type": "stream",
     "text": [
      "Monday\n",
      "Tuesday\n",
      "Wednesdays\n",
      "Thursday\n",
      "Friday\n",
      "Saturday\n",
      "Sunday\n"
     ]
    }
   ],
   "source": [
    "# Example:\n",
    "\n",
    "days = ['Monday', 'Tuesday', 'Wednesdays', 'Thursday', 'Friday', 'Saturday', 'Sunday']\n",
    "\n",
    "for day in days:\n",
    "    print(day)\n",
    "    \n"
   ]
  },
  {
   "cell_type": "code",
   "execution_count": 74,
   "id": "4bb9c216",
   "metadata": {},
   "outputs": [
    {
     "name": "stdout",
     "output_type": "stream",
     "text": [
      "M\n",
      "o\n",
      "n\n",
      "d\n",
      "a\n",
      "y\n",
      "['M', 'o', 'n', 'd', 'a', 'y']\n"
     ]
    }
   ],
   "source": [
    "mylist = []\n",
    "\n",
    "for char in 'Monday':\n",
    "    print(char)\n",
    "    mylist.append(char)\n",
    "    \n",
    "print(mylist)"
   ]
  },
  {
   "cell_type": "code",
   "execution_count": 77,
   "id": "80153fab",
   "metadata": {},
   "outputs": [
    {
     "name": "stdout",
     "output_type": "stream",
     "text": [
      "Key: name ,Value: Dominic\n",
      "Key: age ,Value: 29\n",
      "Key: career ,Value: Data Scientist\n",
      "Key: married ,Value: False\n"
     ]
    }
   ],
   "source": [
    "# looping over a dictionary using the for loop\n",
    "\n",
    "person = { 'name':'Dominic', \n",
    "          'age': 29, \n",
    "          'career': 'Data Scientist',\n",
    "          'married': 'False'\n",
    "         }\n",
    "for key in person:\n",
    "    \n",
    "    print('Key:', key, \",\" 'Value:', person[key])"
   ]
  },
  {
   "cell_type": "code",
   "execution_count": 78,
   "id": "5a9fc619",
   "metadata": {},
   "outputs": [
    {
     "name": "stdout",
     "output_type": "stream",
     "text": [
      "Dominic\n",
      "29\n",
      "Data Scientist\n",
      "False\n"
     ]
    }
   ],
   "source": [
    "# Using the values method to iterate over a dictionary\n",
    "\n",
    "for value in person.values():\n",
    "    print(value)"
   ]
  },
  {
   "cell_type": "code",
   "execution_count": 79,
   "id": "e3ece6c0",
   "metadata": {},
   "outputs": [
    {
     "name": "stdout",
     "output_type": "stream",
     "text": [
      "name\n",
      "age\n",
      "career\n",
      "married\n"
     ]
    }
   ],
   "source": [
    "#Using the keys method to iterate through a dictionary\n",
    "\n",
    "for key in person.keys():\n",
    "    print(key)"
   ]
  },
  {
   "cell_type": "code",
   "execution_count": 80,
   "id": "c9e720da",
   "metadata": {},
   "outputs": [
    {
     "name": "stdout",
     "output_type": "stream",
     "text": [
      "('name', 'Dominic')\n",
      "('age', 29)\n",
      "('career', 'Data Scientist')\n",
      "('married', 'False')\n"
     ]
    }
   ],
   "source": [
    "for key_value_pair in person.items():\n",
    "    print(key_value_pair)\n"
   ]
  },
  {
   "cell_type": "markdown",
   "id": "a21a4e77",
   "metadata": {},
   "source": [
    "# Iterating using Range and Enumerate\n",
    "\n",
    "Range() function is used to create a sequence of numbers that can be iterated over using the for loop.\n",
    "\n",
    "It can be used in 3 ways:\n",
    "\n",
    "1. range(n) - This creates a sequence of numbers from 0 to n-1\n",
    "2. range(a,b) - This creates a sequence of numbers from a to b-1\n",
    "3. range(a, b, step) - This creates a sequence of numbers from a to b-1 with increments of step."
   ]
  },
  {
   "cell_type": "code",
   "execution_count": 81,
   "id": "c3881320",
   "metadata": {},
   "outputs": [
    {
     "name": "stdout",
     "output_type": "stream",
     "text": [
      "0\n",
      "1\n",
      "2\n",
      "3\n",
      "4\n",
      "5\n",
      "6\n"
     ]
    }
   ],
   "source": [
    "# Examples 1\n",
    "\n",
    "for i in range(7):\n",
    "    print(i)"
   ]
  },
  {
   "cell_type": "code",
   "execution_count": 83,
   "id": "66bc2cb9",
   "metadata": {},
   "outputs": [
    {
     "name": "stdout",
     "output_type": "stream",
     "text": [
      "3\n",
      "4\n",
      "5\n",
      "6\n",
      "7\n",
      "8\n",
      "9\n",
      "10\n",
      "11\n",
      "12\n",
      "13\n",
      "14\n"
     ]
    }
   ],
   "source": [
    "# Example 2, uses a start and end index\n",
    "\n",
    "for i in range(3, 15):\n",
    "    print(i)"
   ]
  },
  {
   "cell_type": "code",
   "execution_count": 86,
   "id": "4b92f4bb",
   "metadata": {},
   "outputs": [
    {
     "name": "stdout",
     "output_type": "stream",
     "text": [
      "2\n",
      "4\n",
      "6\n",
      "8\n",
      "10\n",
      "12\n",
      "14\n",
      "16\n",
      "18\n"
     ]
    }
   ],
   "source": [
    "# Example 3. Includes a stepping factor to the index.\n",
    "\n",
    "for j in range(2, 20, 2):\n",
    "    print(j)"
   ]
  },
  {
   "cell_type": "markdown",
   "id": "2e9d6464",
   "metadata": {},
   "source": [
    "### Ranges are used to iterate over lists especially when you need to track the index of elements while iterating.\n"
   ]
  },
  {
   "cell_type": "code",
   "execution_count": 88,
   "id": "1ddd29cd",
   "metadata": {},
   "outputs": [
    {
     "name": "stdout",
     "output_type": "stream",
     "text": [
      "The value at position 0 is Monday\n",
      "The value at position 1 is Tuesday\n",
      "The value at position 2 is Wednesday\n",
      "The value at position 3 is Thursday\n",
      "The value at position 4 is Friday\n"
     ]
    }
   ],
   "source": [
    "# Example\n",
    "\n",
    "a_list = ['Monday', 'Tuesday', 'Wednesday', 'Thursday', 'Friday']\n",
    "\n",
    "for i in range(len(a_list)):\n",
    "    print('The value at position {} is {}'.format(i, a_list[i]))"
   ]
  },
  {
   "cell_type": "code",
   "execution_count": 93,
   "id": "c8379a49",
   "metadata": {},
   "outputs": [
    {
     "name": "stdout",
     "output_type": "stream",
     "text": [
      " The value at position 0 is Monday\n",
      " The value at position 1 is Tuesday\n",
      " The value at position 2 is Wednesday\n",
      " The value at position 3 is Thursday\n",
      " The value at position 4 is Friday\n"
     ]
    }
   ],
   "source": [
    "# Using enumerate function to achieve same result as above. \n",
    "\n",
    "for i, val in enumerate(a_list):\n",
    "    print (' The value at position {} is {}'.format(i, val))"
   ]
  },
  {
   "cell_type": "markdown",
   "id": "60031fae",
   "metadata": {},
   "source": [
    "### Nested Loops\n",
    "\n",
    "### Break and Continue in for loops"
   ]
  },
  {
   "cell_type": "code",
   "execution_count": null,
   "id": "a262b89d",
   "metadata": {},
   "outputs": [],
   "source": []
  }
 ],
 "metadata": {
  "kernelspec": {
   "display_name": "Python 3",
   "language": "python",
   "name": "python3"
  },
  "language_info": {
   "codemirror_mode": {
    "name": "ipython",
    "version": 3
   },
   "file_extension": ".py",
   "mimetype": "text/x-python",
   "name": "python",
   "nbconvert_exporter": "python",
   "pygments_lexer": "ipython3",
   "version": "3.9.4"
  }
 },
 "nbformat": 4,
 "nbformat_minor": 5
}
