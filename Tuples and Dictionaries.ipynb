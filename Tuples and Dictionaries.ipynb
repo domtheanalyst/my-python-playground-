{
 "cells": [
  {
   "cell_type": "markdown",
   "id": "843ff898",
   "metadata": {},
   "source": [
    "# Tuples\n",
    "\n",
    "A tuple is an ordered collection of values, it is similar to a list in python, the major difference is that it is not possible to remove or modify the values in a tuple.\n",
    "\n",
    "Tuple data is said to be immutable.\n",
    "\n",
    "Tuples are very useful when you want to create a block of data that you don't want anyone to modify or play around with.\n",
    "\n",
    "### How to Create a Tuple\n",
    "\n",
    "To create a tuple simply enclose the elements of the tuple in a bracket ( ) with the values separated by commas."
   ]
  },
  {
   "cell_type": "code",
   "execution_count": 3,
   "id": "69b79168",
   "metadata": {},
   "outputs": [],
   "source": [
    "my_tools = ('lenovo thinkpad', 'xiaomi smartphone', 'my curiosity', 'black ear piece', 'wireless mouse')"
   ]
  },
  {
   "cell_type": "code",
   "execution_count": 4,
   "id": "f0f6981f",
   "metadata": {},
   "outputs": [
    {
     "data": {
      "text/plain": [
       "('lenovo thinkpad',\n",
       " 'xiaomi smartphone',\n",
       " 'my curiosity',\n",
       " 'black ear piece',\n",
       " 'wireless mouse')"
      ]
     },
     "execution_count": 4,
     "metadata": {},
     "output_type": "execute_result"
    }
   ],
   "source": [
    "my_tools"
   ]
  },
  {
   "cell_type": "code",
   "execution_count": 5,
   "id": "0432a70e",
   "metadata": {},
   "outputs": [
    {
     "data": {
      "text/plain": [
       "5"
      ]
     },
     "execution_count": 5,
     "metadata": {},
     "output_type": "execute_result"
    }
   ],
   "source": [
    "# check how many items are in a tuple\n",
    "\n",
    "len(my_tools)"
   ]
  },
  {
   "cell_type": "code",
   "execution_count": 6,
   "id": "1966a696",
   "metadata": {},
   "outputs": [
    {
     "data": {
      "text/plain": [
       "True"
      ]
     },
     "execution_count": 6,
     "metadata": {},
     "output_type": "execute_result"
    }
   ],
   "source": [
    "# find out if an item is in a tuple with the (in) keyword\n",
    "\n",
    "'lenovo thinkpad' in my_tools"
   ]
  },
  {
   "cell_type": "code",
   "execution_count": 7,
   "id": "c79bd28c",
   "metadata": {},
   "outputs": [
    {
     "data": {
      "text/plain": [
       "False"
      ]
     },
     "execution_count": 7,
     "metadata": {},
     "output_type": "execute_result"
    }
   ],
   "source": [
    "'samsung' in my_tools"
   ]
  },
  {
   "cell_type": "code",
   "execution_count": 8,
   "id": "119ae834",
   "metadata": {},
   "outputs": [
    {
     "ename": "AttributeError",
     "evalue": "'tuple' object has no attribute 'append'",
     "output_type": "error",
     "traceback": [
      "\u001b[1;31m---------------------------------------------------------------------------\u001b[0m",
      "\u001b[1;31mAttributeError\u001b[0m                            Traceback (most recent call last)",
      "\u001b[1;32m<ipython-input-8-dbe132ca44f5>\u001b[0m in \u001b[0;36m<module>\u001b[1;34m\u001b[0m\n\u001b[0;32m      1\u001b[0m \u001b[1;31m# Try to modify a tuple\u001b[0m\u001b[1;33m\u001b[0m\u001b[1;33m\u001b[0m\u001b[1;33m\u001b[0m\u001b[0m\n\u001b[0;32m      2\u001b[0m \u001b[1;33m\u001b[0m\u001b[0m\n\u001b[1;32m----> 3\u001b[1;33m \u001b[0mmy_tools\u001b[0m\u001b[1;33m.\u001b[0m\u001b[0mappend\u001b[0m\u001b[1;33m(\u001b[0m\u001b[1;34m'macbook air 2020'\u001b[0m\u001b[1;33m)\u001b[0m\u001b[1;33m\u001b[0m\u001b[1;33m\u001b[0m\u001b[0m\n\u001b[0m",
      "\u001b[1;31mAttributeError\u001b[0m: 'tuple' object has no attribute 'append'"
     ]
    }
   ],
   "source": [
    "# Try to modify a tuple\n",
    "\n",
    "my_tools.append('macbook air 2020')"
   ]
  },
  {
   "cell_type": "code",
   "execution_count": 9,
   "id": "1b0e6cbe",
   "metadata": {},
   "outputs": [
    {
     "ename": "AttributeError",
     "evalue": "'tuple' object has no attribute 'pop'",
     "output_type": "error",
     "traceback": [
      "\u001b[1;31m---------------------------------------------------------------------------\u001b[0m",
      "\u001b[1;31mAttributeError\u001b[0m                            Traceback (most recent call last)",
      "\u001b[1;32m<ipython-input-9-05902905a9ca>\u001b[0m in \u001b[0;36m<module>\u001b[1;34m\u001b[0m\n\u001b[1;32m----> 1\u001b[1;33m \u001b[0mmy_tools\u001b[0m\u001b[1;33m.\u001b[0m\u001b[0mpop\u001b[0m\u001b[1;33m(\u001b[0m\u001b[1;36m0\u001b[0m\u001b[1;33m)\u001b[0m\u001b[1;33m\u001b[0m\u001b[1;33m\u001b[0m\u001b[0m\n\u001b[0m",
      "\u001b[1;31mAttributeError\u001b[0m: 'tuple' object has no attribute 'pop'"
     ]
    }
   ],
   "source": [
    "my_tools.pop(0)"
   ]
  },
  {
   "cell_type": "code",
   "execution_count": 10,
   "id": "b4bbce3d",
   "metadata": {},
   "outputs": [
    {
     "data": {
      "text/plain": [
       "'wireless mouse'"
      ]
     },
     "execution_count": 10,
     "metadata": {},
     "output_type": "execute_result"
    }
   ],
   "source": [
    "# Access the elements in a tuple using their index values\n",
    "\n",
    "my_tools[4]"
   ]
  },
  {
   "cell_type": "code",
   "execution_count": 11,
   "id": "0682feff",
   "metadata": {},
   "outputs": [
    {
     "data": {
      "text/plain": [
       "'lenovo thinkpad'"
      ]
     },
     "execution_count": 11,
     "metadata": {},
     "output_type": "execute_result"
    }
   ],
   "source": [
    "my_tools[0]"
   ]
  },
  {
   "cell_type": "code",
   "execution_count": 12,
   "id": "b2e14781",
   "metadata": {},
   "outputs": [
    {
     "data": {
      "text/plain": [
       "tuple"
      ]
     },
     "execution_count": 12,
     "metadata": {},
     "output_type": "execute_result"
    }
   ],
   "source": [
    "# find out data type using the type() function\n",
    "\n",
    "type(my_tools)"
   ]
  },
  {
   "cell_type": "markdown",
   "id": "98700c07",
   "metadata": {},
   "source": [
    "## Python converts comma separated values to tuples even without the brackets\n"
   ]
  },
  {
   "cell_type": "code",
   "execution_count": 13,
   "id": "fd645d72",
   "metadata": {},
   "outputs": [],
   "source": [
    "# Example:\n",
    "\n",
    "my_fav = 'coding', 'researching', 'writing', 'reading'"
   ]
  },
  {
   "cell_type": "code",
   "execution_count": 14,
   "id": "a5fd609e",
   "metadata": {},
   "outputs": [
    {
     "data": {
      "text/plain": [
       "tuple"
      ]
     },
     "execution_count": 14,
     "metadata": {},
     "output_type": "execute_result"
    }
   ],
   "source": [
    "type(my_fav)"
   ]
  },
  {
   "cell_type": "code",
   "execution_count": 15,
   "id": "f9ac3869",
   "metadata": {},
   "outputs": [],
   "source": [
    "# A single element tuple created with a single value and a comma after it.\n",
    "\n",
    "your_age = 50,"
   ]
  },
  {
   "cell_type": "code",
   "execution_count": 16,
   "id": "97eadf60",
   "metadata": {},
   "outputs": [
    {
     "data": {
      "text/plain": [
       "tuple"
      ]
     },
     "execution_count": 16,
     "metadata": {},
     "output_type": "execute_result"
    }
   ],
   "source": [
    "type(your_age)"
   ]
  },
  {
   "cell_type": "markdown",
   "id": "cfae0051",
   "metadata": {},
   "source": [
    "## Convert a tuple into a list and vice versa with list() and tuple() functions respectively:"
   ]
  },
  {
   "cell_type": "code",
   "execution_count": 2,
   "id": "a4487243",
   "metadata": {},
   "outputs": [],
   "source": [
    "# Example 1 convert a tuple to a list with list() function\n",
    "\n",
    "dog_breeds = ( 'rott', 'dogo', 'dobberman', 'chihuahua', 'gsd', 'st. bernard', 'great dane', 'husky')"
   ]
  },
  {
   "cell_type": "code",
   "execution_count": 3,
   "id": "394526f6",
   "metadata": {},
   "outputs": [
    {
     "data": {
      "text/plain": [
       "('rott',\n",
       " 'dogo',\n",
       " 'dobberman',\n",
       " 'chihuahua',\n",
       " 'gsd',\n",
       " 'st. bernard',\n",
       " 'great dane',\n",
       " 'husky')"
      ]
     },
     "execution_count": 3,
     "metadata": {},
     "output_type": "execute_result"
    }
   ],
   "source": [
    "dog_breeds"
   ]
  },
  {
   "cell_type": "code",
   "execution_count": 13,
   "id": "32eb2a1f",
   "metadata": {},
   "outputs": [
    {
     "data": {
      "text/plain": [
       "['rott',\n",
       " 'dogo',\n",
       " 'dobberman',\n",
       " 'chihuahua',\n",
       " 'gsd',\n",
       " 'st. bernard',\n",
       " 'great dane',\n",
       " 'husky']"
      ]
     },
     "execution_count": 13,
     "metadata": {},
     "output_type": "execute_result"
    }
   ],
   "source": [
    "# Convert tuple to list\n",
    "\n",
    "list((dog_breeds))"
   ]
  },
  {
   "cell_type": "code",
   "execution_count": 14,
   "id": "0d7cb383",
   "metadata": {},
   "outputs": [],
   "source": [
    "# convert list to tuple\n",
    "\n",
    "fav_dog_breeds = ['golden retrievers', 'belgian malinois', 'german shepherd']"
   ]
  },
  {
   "cell_type": "code",
   "execution_count": 20,
   "id": "62168e64",
   "metadata": {},
   "outputs": [
    {
     "data": {
      "text/plain": [
       "('golden retrievers', 'belgian malinois', 'german shepherd')"
      ]
     },
     "execution_count": 20,
     "metadata": {},
     "output_type": "execute_result"
    }
   ],
   "source": [
    "tuple(['golden retrievers', 'belgian malinois', 'german shepherd'])"
   ]
  },
  {
   "cell_type": "code",
   "execution_count": 21,
   "id": "f5d16181",
   "metadata": {},
   "outputs": [
    {
     "data": {
      "text/plain": [
       "list"
      ]
     },
     "execution_count": 21,
     "metadata": {},
     "output_type": "execute_result"
    }
   ],
   "source": [
    "type(fav_dog_breeds)"
   ]
  },
  {
   "cell_type": "markdown",
   "id": "cf8e1d9b",
   "metadata": {},
   "source": [
    "## There are Only 2 Methods for Tuples,  .count() and .index()\n",
    "\n",
    "1. .count(value) counts how many times a value occurs in a tuple\n",
    "\n",
    "2. .index() shows the first index of a value and shows error message if the value does not exist"
   ]
  },
  {
   "cell_type": "code",
   "execution_count": 22,
   "id": "ea61be1e",
   "metadata": {},
   "outputs": [
    {
     "data": {
      "text/plain": [
       "('rott',\n",
       " 'dogo',\n",
       " 'dobberman',\n",
       " 'chihuahua',\n",
       " 'gsd',\n",
       " 'st. bernard',\n",
       " 'great dane',\n",
       " 'husky')"
      ]
     },
     "execution_count": 22,
     "metadata": {},
     "output_type": "execute_result"
    }
   ],
   "source": [
    "dog_breeds "
   ]
  },
  {
   "cell_type": "code",
   "execution_count": 33,
   "id": "7efd65b4",
   "metadata": {},
   "outputs": [
    {
     "data": {
      "text/plain": [
       "2"
      ]
     },
     "execution_count": 33,
     "metadata": {},
     "output_type": "execute_result"
    }
   ],
   "source": [
    "dog_breeds.index('dobberman')"
   ]
  },
  {
   "cell_type": "code",
   "execution_count": 34,
   "id": "f1ab25b8",
   "metadata": {},
   "outputs": [
    {
     "data": {
      "text/plain": [
       "6"
      ]
     },
     "execution_count": 34,
     "metadata": {},
     "output_type": "execute_result"
    }
   ],
   "source": [
    "dog_breeds.index('great dane')"
   ]
  },
  {
   "cell_type": "markdown",
   "id": "045ba9e0",
   "metadata": {},
   "source": [
    "# Python Dictionary\n",
    "\n",
    "A dictionary is an unordered collection of items. Every item stored in a dictionary has a key and a vlaue.\n",
    "\n",
    "Keys are used to retrieve their corresponding values from the dictionary. Dictionaries have the type dict.\n",
    "\n",
    "Dictioaries are created with curly brackets {} which enclose the key:value pairs within.\n",
    "\n",
    "Dictionaries are mostly used to stores many pieces of information in a single variable, e.g. can be the details of a person."
   ]
  },
  {
   "cell_type": "code",
   "execution_count": 39,
   "id": "eee30a70",
   "metadata": {},
   "outputs": [],
   "source": [
    "# create my first dictionary\n",
    "\n",
    "person ={'name': 'Dominic', \n",
    "        'age': 29, \n",
    "        'sex': 'male', \n",
    "        'married': False, \n",
    "        'drives': False\n",
    "         }"
   ]
  },
  {
   "cell_type": "code",
   "execution_count": 40,
   "id": "7792ba2b",
   "metadata": {},
   "outputs": [
    {
     "data": {
      "text/plain": [
       "{'name': 'Dominic',\n",
       " 'age': 29,\n",
       " 'sex': 'male',\n",
       " 'married': False,\n",
       " 'drives': False}"
      ]
     },
     "execution_count": 40,
     "metadata": {},
     "output_type": "execute_result"
    }
   ],
   "source": [
    "person"
   ]
  },
  {
   "cell_type": "code",
   "execution_count": 42,
   "id": "b3738ef8",
   "metadata": {},
   "outputs": [],
   "source": [
    "# Another way to create a dictionary with the dict() function\n",
    "\n",
    "person1 = dict(name = 'John', age = 30, sex = 'male', married = False, drives = False)"
   ]
  },
  {
   "cell_type": "code",
   "execution_count": 43,
   "id": "28cc6f05",
   "metadata": {},
   "outputs": [
    {
     "data": {
      "text/plain": [
       "{'name': 'John', 'age': 30, 'sex': 'male', 'married': False, 'drives': False}"
      ]
     },
     "execution_count": 43,
     "metadata": {},
     "output_type": "execute_result"
    }
   ],
   "source": [
    "person1"
   ]
  },
  {
   "cell_type": "code",
   "execution_count": 44,
   "id": "33071d37",
   "metadata": {},
   "outputs": [
    {
     "data": {
      "text/plain": [
       "dict"
      ]
     },
     "execution_count": 44,
     "metadata": {},
     "output_type": "execute_result"
    }
   ],
   "source": [
    "type(person)"
   ]
  },
  {
   "cell_type": "code",
   "execution_count": 45,
   "id": "55454285",
   "metadata": {},
   "outputs": [
    {
     "data": {
      "text/plain": [
       "dict"
      ]
     },
     "execution_count": 45,
     "metadata": {},
     "output_type": "execute_result"
    }
   ],
   "source": [
    "type(person1)"
   ]
  },
  {
   "cell_type": "markdown",
   "id": "7af0709d",
   "metadata": {},
   "source": [
    "# How to Access The Elements in a Dictionary\n",
    "\n",
    "Dictionaries are unordered containers and so their values cannot be access using index numbers. \n",
    "\n",
    "Instead you access them using the keys for any of the values you want to access.\n",
    "\n",
    "this is the format:\n",
    "\n",
    "dictionary_name[ key ]"
   ]
  },
  {
   "cell_type": "code",
   "execution_count": 46,
   "id": "5fa315c3",
   "metadata": {},
   "outputs": [
    {
     "data": {
      "text/plain": [
       "{'name': 'Dominic',\n",
       " 'age': 29,\n",
       " 'sex': 'male',\n",
       " 'married': False,\n",
       " 'drives': False}"
      ]
     },
     "execution_count": 46,
     "metadata": {},
     "output_type": "execute_result"
    }
   ],
   "source": [
    "person"
   ]
  },
  {
   "cell_type": "code",
   "execution_count": 47,
   "id": "5ac45910",
   "metadata": {},
   "outputs": [
    {
     "data": {
      "text/plain": [
       "'Dominic'"
      ]
     },
     "execution_count": 47,
     "metadata": {},
     "output_type": "execute_result"
    }
   ],
   "source": [
    "person['name']"
   ]
  },
  {
   "cell_type": "code",
   "execution_count": 48,
   "id": "b61c3b51",
   "metadata": {},
   "outputs": [
    {
     "data": {
      "text/plain": [
       "False"
      ]
     },
     "execution_count": 48,
     "metadata": {},
     "output_type": "execute_result"
    }
   ],
   "source": [
    "person[\"married\"]"
   ]
  },
  {
   "cell_type": "code",
   "execution_count": 49,
   "id": "ce906108",
   "metadata": {},
   "outputs": [
    {
     "data": {
      "text/plain": [
       "False"
      ]
     },
     "execution_count": 49,
     "metadata": {},
     "output_type": "execute_result"
    }
   ],
   "source": [
    "person['drives']"
   ]
  },
  {
   "cell_type": "code",
   "execution_count": 50,
   "id": "e6f72a08",
   "metadata": {},
   "outputs": [
    {
     "data": {
      "text/plain": [
       "'male'"
      ]
     },
     "execution_count": 50,
     "metadata": {},
     "output_type": "execute_result"
    }
   ],
   "source": [
    "person['sex']"
   ]
  },
  {
   "cell_type": "code",
   "execution_count": 51,
   "id": "cdfebe1b",
   "metadata": {},
   "outputs": [
    {
     "data": {
      "text/plain": [
       "29"
      ]
     },
     "execution_count": 51,
     "metadata": {},
     "output_type": "execute_result"
    }
   ],
   "source": [
    "person['age']"
   ]
  },
  {
   "cell_type": "code",
   "execution_count": 54,
   "id": "d89bbad9",
   "metadata": {},
   "outputs": [
    {
     "ename": "KeyError",
     "evalue": "'skills'",
     "output_type": "error",
     "traceback": [
      "\u001b[1;31m---------------------------------------------------------------------------\u001b[0m",
      "\u001b[1;31mKeyError\u001b[0m                                  Traceback (most recent call last)",
      "\u001b[1;32m<ipython-input-54-a892f38f0cdd>\u001b[0m in \u001b[0;36m<module>\u001b[1;34m\u001b[0m\n\u001b[0;32m      1\u001b[0m \u001b[1;31m# if the key is not available, an KeyError is returned\u001b[0m\u001b[1;33m\u001b[0m\u001b[1;33m\u001b[0m\u001b[1;33m\u001b[0m\u001b[0m\n\u001b[0;32m      2\u001b[0m \u001b[1;33m\u001b[0m\u001b[0m\n\u001b[1;32m----> 3\u001b[1;33m \u001b[0mperson\u001b[0m\u001b[1;33m[\u001b[0m\u001b[1;34m'skills'\u001b[0m\u001b[1;33m]\u001b[0m\u001b[1;33m\u001b[0m\u001b[1;33m\u001b[0m\u001b[0m\n\u001b[0m",
      "\u001b[1;31mKeyError\u001b[0m: 'skills'"
     ]
    }
   ],
   "source": [
    "# if the key is not available, a KeyError is returned\n",
    "\n",
    "person['skills']"
   ]
  },
  {
   "cell_type": "markdown",
   "id": "3232cc3f",
   "metadata": {},
   "source": [
    "# Another way to access the values in a dictionary is to use the .get() method\n",
    "\n",
    "With the get() method, you can specify a key, and a value to be returned if the key is not found in the dictionary as arguments for the method."
   ]
  },
  {
   "cell_type": "code",
   "execution_count": 55,
   "id": "d2002dc7",
   "metadata": {},
   "outputs": [
    {
     "data": {
      "text/plain": [
       "'Dominic'"
      ]
     },
     "execution_count": 55,
     "metadata": {},
     "output_type": "execute_result"
    }
   ],
   "source": [
    "# Example:\n",
    "\n",
    "person.get('name', 'Unknown')"
   ]
  },
  {
   "cell_type": "code",
   "execution_count": 56,
   "id": "78ce817f",
   "metadata": {},
   "outputs": [
    {
     "data": {
      "text/plain": [
       "'UNKNOWN'"
      ]
     },
     "execution_count": 56,
     "metadata": {},
     "output_type": "execute_result"
    }
   ],
   "source": [
    "person.get('skills', 'UNKNOWN')"
   ]
  },
  {
   "cell_type": "markdown",
   "id": "a87f245a",
   "metadata": {},
   "source": [
    "# Use the in keyword to find out if a value exists in a dictionary"
   ]
  },
  {
   "cell_type": "code",
   "execution_count": 6,
   "id": "c7cacd57",
   "metadata": {},
   "outputs": [],
   "source": [
    "my_dream_car = {'name': 'lexus ES350', 'model':'2010', 'year to buy': '2023', 'budget': '4 million' }"
   ]
  },
  {
   "cell_type": "code",
   "execution_count": 7,
   "id": "ba6f9950",
   "metadata": {},
   "outputs": [
    {
     "data": {
      "text/plain": [
       "{'name': 'lexus ES350',\n",
       " 'model': '2010',\n",
       " 'year to buy': '2023',\n",
       " 'budget': '4 million'}"
      ]
     },
     "execution_count": 7,
     "metadata": {},
     "output_type": "execute_result"
    }
   ],
   "source": [
    "my_dream_car"
   ]
  },
  {
   "cell_type": "code",
   "execution_count": 4,
   "id": "a81ce2c5",
   "metadata": {},
   "outputs": [
    {
     "data": {
      "text/plain": [
       "'lexus ES350'"
      ]
     },
     "execution_count": 4,
     "metadata": {},
     "output_type": "execute_result"
    }
   ],
   "source": [
    "my_dream_car['name']"
   ]
  },
  {
   "cell_type": "code",
   "execution_count": 5,
   "id": "aa94a3de",
   "metadata": {},
   "outputs": [
    {
     "data": {
      "text/plain": [
       "'4 million'"
      ]
     },
     "execution_count": 5,
     "metadata": {},
     "output_type": "execute_result"
    }
   ],
   "source": [
    "my_dream_car['budget']"
   ]
  },
  {
   "cell_type": "code",
   "execution_count": 8,
   "id": "567a7cc2",
   "metadata": {},
   "outputs": [
    {
     "data": {
      "text/plain": [
       "'2023'"
      ]
     },
     "execution_count": 8,
     "metadata": {},
     "output_type": "execute_result"
    }
   ],
   "source": [
    "my_dream_car['year to buy']"
   ]
  },
  {
   "cell_type": "code",
   "execution_count": 9,
   "id": "0dbc9217",
   "metadata": {},
   "outputs": [
    {
     "data": {
      "text/plain": [
       "'2010'"
      ]
     },
     "execution_count": 9,
     "metadata": {},
     "output_type": "execute_result"
    }
   ],
   "source": [
    "my_dream_car.get('model', 'does not exist')"
   ]
  },
  {
   "cell_type": "code",
   "execution_count": 10,
   "id": "ad853922",
   "metadata": {},
   "outputs": [
    {
     "data": {
      "text/plain": [
       "'not yet known'"
      ]
     },
     "execution_count": 10,
     "metadata": {},
     "output_type": "execute_result"
    }
   ],
   "source": [
    "my_dream_car.get('engine nmber', 'not yet known')"
   ]
  },
  {
   "cell_type": "code",
   "execution_count": 11,
   "id": "10f82211",
   "metadata": {},
   "outputs": [
    {
     "data": {
      "text/plain": [
       "True"
      ]
     },
     "execution_count": 11,
     "metadata": {},
     "output_type": "execute_result"
    }
   ],
   "source": [
    "# find out if a value is in a dictionary using the (in) keyword\n",
    "\n",
    "'name' in my_dream_car"
   ]
  },
  {
   "cell_type": "code",
   "execution_count": 12,
   "id": "03671306",
   "metadata": {},
   "outputs": [
    {
     "data": {
      "text/plain": [
       "False"
      ]
     },
     "execution_count": 12,
     "metadata": {},
     "output_type": "execute_result"
    }
   ],
   "source": [
    "'price' in my_dream_car"
   ]
  },
  {
   "cell_type": "code",
   "execution_count": 13,
   "id": "e96059f8",
   "metadata": {},
   "outputs": [
    {
     "data": {
      "text/plain": [
       "'lexus ES350'"
      ]
     },
     "execution_count": 13,
     "metadata": {},
     "output_type": "execute_result"
    }
   ],
   "source": [
    "# Accessing individual values in a dictionary using their keys\n",
    "\n",
    "my_dream_car['name']"
   ]
  },
  {
   "cell_type": "code",
   "execution_count": 14,
   "id": "ebc3a501",
   "metadata": {},
   "outputs": [],
   "source": [
    "# Changing the value in a dictionary by assigning a new value to its key using (=)\n",
    "\n",
    "my_dream_car['name'] = 'toyota venza'"
   ]
  },
  {
   "cell_type": "code",
   "execution_count": 15,
   "id": "bd49a88c",
   "metadata": {},
   "outputs": [
    {
     "data": {
      "text/plain": [
       "{'name': 'toyota venza',\n",
       " 'model': '2010',\n",
       " 'year to buy': '2023',\n",
       " 'budget': '4 million'}"
      ]
     },
     "execution_count": 15,
     "metadata": {},
     "output_type": "execute_result"
    }
   ],
   "source": [
    "my_dream_car"
   ]
  },
  {
   "cell_type": "code",
   "execution_count": 16,
   "id": "1ca964a2",
   "metadata": {},
   "outputs": [],
   "source": [
    "# Add a New Key:Value pair to the dictionary using the assignment = operator\n",
    "\n",
    "my_dream_car['usage'] = 'American used tokunbo'"
   ]
  },
  {
   "cell_type": "code",
   "execution_count": 17,
   "id": "f561017a",
   "metadata": {},
   "outputs": [
    {
     "data": {
      "text/plain": [
       "{'name': 'toyota venza',\n",
       " 'model': '2010',\n",
       " 'year to buy': '2023',\n",
       " 'budget': '4 million',\n",
       " 'usage': 'American used tokunbo'}"
      ]
     },
     "execution_count": 17,
     "metadata": {},
     "output_type": "execute_result"
    }
   ],
   "source": [
    "my_dream_car"
   ]
  },
  {
   "cell_type": "code",
   "execution_count": 18,
   "id": "62f90627",
   "metadata": {},
   "outputs": [
    {
     "data": {
      "text/plain": [
       "'American used tokunbo'"
      ]
     },
     "execution_count": 18,
     "metadata": {},
     "output_type": "execute_result"
    }
   ],
   "source": [
    "# remove the last entry with the .pop() method\n",
    "\n",
    "my_dream_car.pop('usage')"
   ]
  },
  {
   "cell_type": "code",
   "execution_count": 19,
   "id": "3b97793b",
   "metadata": {},
   "outputs": [
    {
     "data": {
      "text/plain": [
       "{'name': 'toyota venza',\n",
       " 'model': '2010',\n",
       " 'year to buy': '2023',\n",
       " 'budget': '4 million'}"
      ]
     },
     "execution_count": 19,
     "metadata": {},
     "output_type": "execute_result"
    }
   ],
   "source": [
    "my_dream_car"
   ]
  },
  {
   "cell_type": "markdown",
   "id": "105ec928",
   "metadata": {},
   "source": [
    "# Dictionary Methods for viewing the keys, values or key:value pairs\n",
    "\n",
    "1. .keys() use to view the keys in a dictionary\n",
    "\n",
    "2. .values() used to view the values in a dictionary\n",
    "\n",
    "3. .items() used to view the key:value pairs in a dictionary"
   ]
  },
  {
   "cell_type": "code",
   "execution_count": 20,
   "id": "003a9599",
   "metadata": {},
   "outputs": [
    {
     "data": {
      "text/plain": [
       "{'name': 'toyota venza',\n",
       " 'model': '2010',\n",
       " 'year to buy': '2023',\n",
       " 'budget': '4 million'}"
      ]
     },
     "execution_count": 20,
     "metadata": {},
     "output_type": "execute_result"
    }
   ],
   "source": [
    "# Examples\n",
    "\n",
    "my_dream_car"
   ]
  },
  {
   "cell_type": "code",
   "execution_count": 21,
   "id": "62e30b15",
   "metadata": {},
   "outputs": [],
   "source": [
    "my_dream_car['name'] = 'lexus es350'"
   ]
  },
  {
   "cell_type": "code",
   "execution_count": 22,
   "id": "4ca5f92b",
   "metadata": {},
   "outputs": [
    {
     "data": {
      "text/plain": [
       "{'name': 'lexus es350',\n",
       " 'model': '2010',\n",
       " 'year to buy': '2023',\n",
       " 'budget': '4 million'}"
      ]
     },
     "execution_count": 22,
     "metadata": {},
     "output_type": "execute_result"
    }
   ],
   "source": [
    "my_dream_car"
   ]
  },
  {
   "cell_type": "code",
   "execution_count": 23,
   "id": "6f5b53ba",
   "metadata": {},
   "outputs": [
    {
     "data": {
      "text/plain": [
       "dict_keys(['name', 'model', 'year to buy', 'budget'])"
      ]
     },
     "execution_count": 23,
     "metadata": {},
     "output_type": "execute_result"
    }
   ],
   "source": [
    "# View the keys\n",
    "\n",
    "my_dream_car.keys()"
   ]
  },
  {
   "cell_type": "code",
   "execution_count": 24,
   "id": "c01bfe3a",
   "metadata": {},
   "outputs": [
    {
     "data": {
      "text/plain": [
       "dict_values(['lexus es350', '2010', '2023', '4 million'])"
      ]
     },
     "execution_count": 24,
     "metadata": {},
     "output_type": "execute_result"
    }
   ],
   "source": [
    "# View the values\n",
    "\n",
    "my_dream_car.values()"
   ]
  },
  {
   "cell_type": "code",
   "execution_count": 25,
   "id": "56c3efeb",
   "metadata": {},
   "outputs": [
    {
     "data": {
      "text/plain": [
       "dict_items([('name', 'lexus es350'), ('model', '2010'), ('year to buy', '2023'), ('budget', '4 million')])"
      ]
     },
     "execution_count": 25,
     "metadata": {},
     "output_type": "execute_result"
    }
   ],
   "source": [
    "# View the list of items that make up the dictionary\n",
    "\n",
    "my_dream_car.items()"
   ]
  },
  {
   "cell_type": "code",
   "execution_count": 26,
   "id": "f50782e7",
   "metadata": {},
   "outputs": [
    {
     "ename": "TypeError",
     "evalue": "'dict_items' object is not subscriptable",
     "output_type": "error",
     "traceback": [
      "\u001b[1;31m---------------------------------------------------------------------------\u001b[0m",
      "\u001b[1;31mTypeError\u001b[0m                                 Traceback (most recent call last)",
      "\u001b[1;32m<ipython-input-26-9c806acb89a3>\u001b[0m in \u001b[0;36m<module>\u001b[1;34m\u001b[0m\n\u001b[1;32m----> 1\u001b[1;33m \u001b[0mmy_dream_car\u001b[0m\u001b[1;33m.\u001b[0m\u001b[0mitems\u001b[0m\u001b[1;33m(\u001b[0m\u001b[1;33m)\u001b[0m\u001b[1;33m[\u001b[0m\u001b[1;36m1\u001b[0m\u001b[1;33m]\u001b[0m\u001b[1;33m\u001b[0m\u001b[1;33m\u001b[0m\u001b[0m\n\u001b[0m",
      "\u001b[1;31mTypeError\u001b[0m: 'dict_items' object is not subscriptable"
     ]
    }
   ],
   "source": [
    "my_dream_car.items()[1]"
   ]
  },
  {
   "cell_type": "code",
   "execution_count": 30,
   "id": "a6fd7afe",
   "metadata": {},
   "outputs": [
    {
     "data": {
      "text/plain": [
       "[('name', 'lexus es350'),\n",
       " ('model', '2010'),\n",
       " ('year to buy', '2023'),\n",
       " ('budget', '4 million')]"
      ]
     },
     "execution_count": 30,
     "metadata": {},
     "output_type": "execute_result"
    }
   ],
   "source": [
    "# Convert an instance of the dictionary item to a list with the list() function\n",
    "\n",
    "list(my_dream_car.items())"
   ]
  },
  {
   "cell_type": "code",
   "execution_count": 31,
   "id": "2cdc9098",
   "metadata": {},
   "outputs": [
    {
     "data": {
      "text/plain": [
       "('budget', '4 million')"
      ]
     },
     "execution_count": 31,
     "metadata": {},
     "output_type": "execute_result"
    }
   ],
   "source": [
    "# Accessing the elements of a dictionary item using their index numbers\n",
    "# After converting it into a list with the list() function\n",
    "\n",
    "list(my_dream_car.items())[3]"
   ]
  },
  {
   "cell_type": "code",
   "execution_count": 32,
   "id": "a821bfea",
   "metadata": {},
   "outputs": [
    {
     "data": {
      "text/plain": [
       "('name', 'lexus es350')"
      ]
     },
     "execution_count": 32,
     "metadata": {},
     "output_type": "execute_result"
    }
   ],
   "source": [
    "list(my_dream_car.items())[0]"
   ]
  },
  {
   "cell_type": "code",
   "execution_count": null,
   "id": "c4040257",
   "metadata": {},
   "outputs": [],
   "source": []
  }
 ],
 "metadata": {
  "kernelspec": {
   "display_name": "Python 3",
   "language": "python",
   "name": "python3"
  },
  "language_info": {
   "codemirror_mode": {
    "name": "ipython",
    "version": 3
   },
   "file_extension": ".py",
   "mimetype": "text/x-python",
   "name": "python",
   "nbconvert_exporter": "python",
   "pygments_lexer": "ipython3",
   "version": "3.9.4"
  }
 },
 "nbformat": 4,
 "nbformat_minor": 5
}
