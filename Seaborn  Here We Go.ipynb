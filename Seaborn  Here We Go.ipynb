{
 "cells": [
  {
   "cell_type": "markdown",
   "id": "8d92fa24",
   "metadata": {},
   "source": [
    "# Seaborn \n",
    "\n",
    "Seaborn is a data visualization library built on top of Matplotlib.\n",
    "\n",
    "Data visualization is an integral part of data science, it helps us explore and visualize data.\n",
    "\n",
    "## 3 Important Seaborn Functions\n",
    "\n",
    "1. Relplot(). This is used for creating relational plots.\n",
    "2. Displot(). This is used for creating distributions plots\n",
    "3. Catplot(). This is used for creating categorical plots.\n"
   ]
  },
  {
   "cell_type": "code",
   "execution_count": 2,
   "id": "6c8948a2",
   "metadata": {},
   "outputs": [
    {
     "name": "stdout",
     "output_type": "stream",
     "text": [
      "Setup Complete\n"
     ]
    }
   ],
   "source": [
    "import pandas as pd\n",
    "pd.plotting.register_matplotlib_converters()\n",
    "import matplotlib.pyplot as plt\n",
    "%matplotlib inline\n",
    "import seaborn as sns\n",
    "print('Setup Complete')"
   ]
  },
  {
   "cell_type": "markdown",
   "id": "7359d3f2",
   "metadata": {},
   "source": [
    "## How to Import Data set into Pandas before visualizing with matplotlib and Seaborn\n",
    "\n",
    "create a variable and assign it the file path\n",
    "\n",
    "Example...\n",
    "\n",
    "fifa_filepath = \".../input/fifa.csv\"\n",
    "\n",
    "Then read the data in the file and assign the read data to another variable.\n",
    "\n",
    "Example:\n",
    "\n",
    "fifa_data = pd.read_csv(fifa_filepath, index_col= \"Date\", parse_dates= True)\n",
    "\n",
    "The pandas function read_csv() takes the fifa_filepath as a parameter, it can also take other parameters like, index_col which specifies what column should be set as the index column, if the index_column is a Date, then you have to include thw parse_dates parameter set to True. This tells the notebook to understand each row label as date and not just ordinary numbers."
   ]
  },
  {
   "cell_type": "markdown",
   "id": "7ef31234",
   "metadata": {},
   "source": [
    "# Seaborn Code Format\n",
    "\n",
    "plt.figure(figsize=(w, h)), this code is used to set the height and width of the figure (The drawing canvas).\n",
    "\n",
    "### Plotting a line in seaborn, format\n",
    "\n",
    "sns.lineplot(data= fifa_data)\n",
    "\n",
    "the seaborn lineplot() function uses just the data as a parameter to create a plot or plots \n",
    "\n",
    "plt.title() is the function used to add title to the plot.\n",
    "\n"
   ]
  },
  {
   "cell_type": "markdown",
   "id": "7788bd3c",
   "metadata": {},
   "source": [
    "## Show the names of the columns in a Dataset\n",
    "\n",
    "list(dataset_name.columns) wrapping the list function converts the result into list.\n",
    "\n",
    "# # Plotting a single column in a data set.\n",
    "\n",
    "set data = dataset_name['column name']"
   ]
  },
  {
   "cell_type": "markdown",
   "id": "58fdc522",
   "metadata": {},
   "source": [
    "Use the head() to examine the first few lines of the data, especially when data set is huge."
   ]
  },
  {
   "cell_type": "markdown",
   "id": "263cf725",
   "metadata": {},
   "source": [
    "# Bar chart plots on Seaborn\n",
    "\n",
    "sns.barplot(x= flight_data.index, y= flight_data['N K'])\n",
    "\n",
    "sns.barplot() is the seaborn function used for plotting bar chart.\n",
    "\n",
    "flight_data.index  this sets the index for the imported dataset."
   ]
  },
  {
   "cell_type": "markdown",
   "id": "3cc1c35b",
   "metadata": {},
   "source": [
    "# Heatmaps in Seaborn\n",
    "\n",
    "sns.heatmap(data= dataset_name, annot= True)\n",
    "\n",
    "1. sns.heatmap() is the seaborn function for creating heat maps\n",
    "2. annot=True this ensures that the values for each cell appear on the heatmap chart. If you leave this out, the values for each cell will be removed."
   ]
  },
  {
   "cell_type": "markdown",
   "id": "a7088c27",
   "metadata": {},
   "source": [
    "## Scatter Plots\n",
    "\n",
    "sns.scatterplot(x=dataset1[column], y=dataset2[column])\n",
    "\n",
    "To create a simple scatter plot, we use the sns.scatterplot() function and specify the values for:\n",
    "\n",
    "1. the horizontal x-axis (x= dataset1[column]\n",
    "2. the vertical y-axis (y= dataset2[column]\n",
    "\n",
    "### Regression Line Plotting\n",
    "\n",
    "sns.regplot((x=dataset1[column], y=dataset2[column])\n",
    "\n",
    "\n"
   ]
  },
  {
   "cell_type": "markdown",
   "id": "c1851dae",
   "metadata": {},
   "source": [
    "# Color_coded Scatter Plots\n",
    "\n"
   ]
  },
  {
   "cell_type": "code",
   "execution_count": null,
   "id": "c3ffc24e",
   "metadata": {},
   "outputs": [],
   "source": []
  }
 ],
 "metadata": {
  "kernelspec": {
   "display_name": "Python 3",
   "language": "python",
   "name": "python3"
  },
  "language_info": {
   "codemirror_mode": {
    "name": "ipython",
    "version": 3
   },
   "file_extension": ".py",
   "mimetype": "text/x-python",
   "name": "python",
   "nbconvert_exporter": "python",
   "pygments_lexer": "ipython3",
   "version": "3.9.4"
  }
 },
 "nbformat": 4,
 "nbformat_minor": 5
}
