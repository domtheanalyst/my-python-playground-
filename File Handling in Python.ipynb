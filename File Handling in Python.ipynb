{
 "cells": [
  {
   "cell_type": "markdown",
   "id": "5f2e0694",
   "metadata": {},
   "source": [
    "# File Open\n",
    "\n",
    "Python has several functions for creating, reading, updating, and deleting files.\n",
    "\n",
    "open() is the key function for working with files in python.\n",
    "\n",
    "The open() function takes two arguments; filename, and mode.\n",
    "\n",
    "There are four different modes in which you can open a file.\n",
    "\n",
    "1. \"r\" - Read mode, this is the default value. This opens a file for reading. It throws an error if the file does not exist.\n",
    "\n",
    "2. \"a\" - Append mode - This opens a file for appending, creates the file if it does not exist.\n",
    "\n",
    "3. \"w\" - Write mode _ This opens a file for writing, it creates the file if it does not exist.\n",
    "\n",
    "4. \"x\" - Create mode - This creates a specified file, it will throw an error if the file already exists.\n",
    "\n",
    "### Extra modes\n",
    "\n",
    "\"t\" - Text, this is the default value, text mode. specifies that a file should be handled as text.\n",
    "\n",
    "\"b\" - Binary, this is the binary mode. It specifies that a file should be handled as binary."
   ]
  },
  {
   "cell_type": "code",
   "execution_count": 4,
   "id": "fa6e5789",
   "metadata": {},
   "outputs": [],
   "source": [
    "# example, opening a file\n",
    "\n",
    "f = open(\"demofile.txt\", \"rt\")"
   ]
  },
  {
   "cell_type": "code",
   "execution_count": 5,
   "id": "c2790e81",
   "metadata": {},
   "outputs": [
    {
     "ename": "FileNotFoundError",
     "evalue": "[Errno 2] No such file or directory: 'japa.txt'",
     "output_type": "error",
     "traceback": [
      "\u001b[1;31m---------------------------------------------------------------------------\u001b[0m",
      "\u001b[1;31mFileNotFoundError\u001b[0m                         Traceback (most recent call last)",
      "\u001b[1;32m<ipython-input-5-1c9b4ce8e5f0>\u001b[0m in \u001b[0;36m<module>\u001b[1;34m\u001b[0m\n\u001b[1;32m----> 1\u001b[1;33m \u001b[0mw\u001b[0m \u001b[1;33m=\u001b[0m \u001b[0mopen\u001b[0m\u001b[1;33m(\u001b[0m\u001b[1;34m\"japa.txt\"\u001b[0m\u001b[1;33m,\u001b[0m \u001b[1;34m\"rt\"\u001b[0m\u001b[1;33m)\u001b[0m\u001b[1;33m\u001b[0m\u001b[1;33m\u001b[0m\u001b[0m\n\u001b[0m",
      "\u001b[1;31mFileNotFoundError\u001b[0m: [Errno 2] No such file or directory: 'japa.txt'"
     ]
    }
   ],
   "source": [
    "# throws an error because the file does not exist\n",
    "\n",
    "w = open(\"japa.txt\", \"rt\")"
   ]
  },
  {
   "cell_type": "code",
   "execution_count": 6,
   "id": "72cc0496",
   "metadata": {},
   "outputs": [],
   "source": [
    "# \"x\" mode is used to create a new file here\n",
    "\n",
    "w = open(\"japa.txt\", \"xt\")"
   ]
  },
  {
   "cell_type": "code",
   "execution_count": 7,
   "id": "d906208d",
   "metadata": {},
   "outputs": [],
   "source": [
    "w = open(\"japa.txt\", \"rt\")"
   ]
  },
  {
   "cell_type": "code",
   "execution_count": 9,
   "id": "b6fee3f8",
   "metadata": {},
   "outputs": [],
   "source": [
    "# Use the .close() method to close an open file.\n",
    "\n",
    "w.close()"
   ]
  },
  {
   "cell_type": "code",
   "execution_count": 10,
   "id": "5696d03a",
   "metadata": {},
   "outputs": [],
   "source": [
    "f.close()"
   ]
  },
  {
   "cell_type": "code",
   "execution_count": 13,
   "id": "d0b4317c",
   "metadata": {},
   "outputs": [],
   "source": [
    "# open the empty file \"japa.txt\" in \"write\" mode\n",
    "f = open(\"japa.txt\", \"w\")"
   ]
  },
  {
   "cell_type": "code",
   "execution_count": 14,
   "id": "254143cb",
   "metadata": {},
   "outputs": [
    {
     "data": {
      "text/plain": [
       "51"
      ]
     },
     "execution_count": 14,
     "metadata": {},
     "output_type": "execute_result"
    }
   ],
   "source": [
    "# Use the \".write() method to write some text into it\"\n",
    "\n",
    "f.write(\"Hello, this is a demo text, I just created for you.\")"
   ]
  },
  {
   "cell_type": "code",
   "execution_count": 17,
   "id": "850a8c6d",
   "metadata": {},
   "outputs": [
    {
     "name": "stdout",
     "output_type": "stream",
     "text": [
      "Hello, this is a demo text, I just created for you.\n"
     ]
    }
   ],
   "source": [
    "# Open the file again, now in read mode\n",
    "\n",
    "f = open(\"japa.txt\", \"r\")\n",
    "\n",
    "# Use the \".read()\" method to read the content of the file and then print it out.\n",
    "\n",
    "print(f.read())"
   ]
  },
  {
   "cell_type": "markdown",
   "id": "adcc79cb",
   "metadata": {},
   "source": [
    "# How to open a file in a different location\n",
    "\n",
    "if a file is located in a location outside the same folder as python files, then you will have to specify the file path."
   ]
  },
  {
   "cell_type": "markdown",
   "id": "d14b7633",
   "metadata": {},
   "source": [
    "# Read Only Some Parts of the File\n",
    "\n",
    "By default, the read() method returns the whole text, but you can also specify how many characters you want to return.\n",
    "\n"
   ]
  },
  {
   "cell_type": "code",
   "execution_count": 28,
   "id": "da71a7bd",
   "metadata": {},
   "outputs": [
    {
     "name": "stdout",
     "output_type": "stream",
     "text": [
      "Hello, this \n"
     ]
    }
   ],
   "source": [
    "# example, return the 5 first characters of the file\n",
    "\n",
    "f = open(\"japa.txt\", \"r\")\n",
    "print(f.read(12))"
   ]
  },
  {
   "cell_type": "code",
   "execution_count": 30,
   "id": "a7e70427",
   "metadata": {},
   "outputs": [
    {
     "name": "stdout",
     "output_type": "stream",
     "text": [
      "Hello, this is a demo text, I just created for you.\n"
     ]
    }
   ],
   "source": [
    "# Read lines\n",
    "\n",
    "# You can read just one line with the readline() method\n",
    "\n",
    "f = open(\"japa.txt\", \"r\")\n",
    "print(f.readline())"
   ]
  },
  {
   "cell_type": "markdown",
   "id": "b3650248",
   "metadata": {},
   "source": [
    "# Read the whole file line by line.\n",
    "\n",
    "To do this, simply loop through the file line by line using for loop"
   ]
  },
  {
   "cell_type": "code",
   "execution_count": 32,
   "id": "2ff9f86d",
   "metadata": {},
   "outputs": [
    {
     "name": "stdout",
     "output_type": "stream",
     "text": [
      "Hello, this is a demo text, I just created for you.\n"
     ]
    }
   ],
   "source": [
    "# Example\n",
    "\n",
    "f = open(\"japa.txt\", \"r\")\n",
    "for x in f:\n",
    "    print(x)"
   ]
  },
  {
   "cell_type": "markdown",
   "id": "abcfaccb",
   "metadata": {},
   "source": [
    "# Closing files\n",
    "\n",
    "Always close your file when you are done with it. It is good practice.\n",
    "\n",
    "Use the \".close()\" method to close your files"
   ]
  },
  {
   "cell_type": "code",
   "execution_count": 33,
   "id": "98aa0a9d",
   "metadata": {},
   "outputs": [],
   "source": [
    "f.close()"
   ]
  },
  {
   "cell_type": "markdown",
   "id": "57e892fe",
   "metadata": {},
   "source": [
    "# How to Write to an Already Existing File\n",
    "\n",
    "\n",
    "To write to an existing file, you must add a parameter to the open() function:\n",
    "\n",
    "1. \"a\" - Append - will append to the end of the file\n",
    "2. \"w\" - Write - will overwrite any exisitng content\n",
    "\n"
   ]
  },
  {
   "cell_type": "code",
   "execution_count": 34,
   "id": "f2b0a8b7",
   "metadata": {},
   "outputs": [],
   "source": [
    "# Example, open a file and append content to the file\n",
    "\n",
    "f = open(\"japa.txt\", \"a\")\n",
    "f.write(\"I am learning data science so I can japa\")\n",
    "f.close()"
   ]
  },
  {
   "cell_type": "code",
   "execution_count": 36,
   "id": "c52d9cd3",
   "metadata": {},
   "outputs": [
    {
     "name": "stdout",
     "output_type": "stream",
     "text": [
      "Hello, this is a demo text, I just created for you.I am learning data science so I can japa\n"
     ]
    }
   ],
   "source": [
    "# let's open and read the file after we have appended to it\n",
    "\n",
    "f = open(\"japa.txt\", \"r\")\n",
    "print(f.read())"
   ]
  },
  {
   "cell_type": "code",
   "execution_count": 37,
   "id": "0f148f6b",
   "metadata": {},
   "outputs": [],
   "source": [
    "# Now, let's overwrite the file\n",
    "\n",
    "f = open(\"japa.txt\", \"w\")\n",
    "f.write(\"Woopa! I have deleted the content\")\n",
    "f.close()"
   ]
  },
  {
   "cell_type": "code",
   "execution_count": 38,
   "id": "b98c1141",
   "metadata": {},
   "outputs": [
    {
     "name": "stdout",
     "output_type": "stream",
     "text": [
      "Woopa! I have deleted the content\n"
     ]
    }
   ],
   "source": [
    "# Now, let's open the file and see what has happened.\n",
    "\n",
    "f = open(\"japa.txt\", \"r\")\n",
    "print(f.read())"
   ]
  },
  {
   "cell_type": "markdown",
   "id": "06298533",
   "metadata": {},
   "source": [
    "# Creating a New File\n",
    "\n",
    "You can any of these parameters with the open() function to create a new file.\n",
    "\n",
    "1. \"x\"\n",
    "2. \"a\"\n",
    "3. \"w\""
   ]
  },
  {
   "cell_type": "markdown",
   "id": "eee23380",
   "metadata": {},
   "source": [
    "# Deleting Files in Python\n",
    "\n",
    "To delete a file you must import the OS module and run its os.remove() function"
   ]
  },
  {
   "cell_type": "code",
   "execution_count": 41,
   "id": "778ea273",
   "metadata": {},
   "outputs": [
    {
     "ename": "FileNotFoundError",
     "evalue": "[WinError 2] The system cannot find the file specified: 'demofile.txt'",
     "output_type": "error",
     "traceback": [
      "\u001b[1;31m---------------------------------------------------------------------------\u001b[0m",
      "\u001b[1;31mFileNotFoundError\u001b[0m                         Traceback (most recent call last)",
      "\u001b[1;32m<ipython-input-41-e4f794a2e954>\u001b[0m in \u001b[0;36m<module>\u001b[1;34m\u001b[0m\n\u001b[0;32m      1\u001b[0m \u001b[1;32mimport\u001b[0m \u001b[0mos\u001b[0m\u001b[1;33m\u001b[0m\u001b[1;33m\u001b[0m\u001b[0m\n\u001b[1;32m----> 2\u001b[1;33m \u001b[0mos\u001b[0m\u001b[1;33m.\u001b[0m\u001b[0mremove\u001b[0m\u001b[1;33m(\u001b[0m\u001b[1;34m\"demofile.txt\"\u001b[0m\u001b[1;33m)\u001b[0m\u001b[1;33m\u001b[0m\u001b[1;33m\u001b[0m\u001b[0m\n\u001b[0m",
      "\u001b[1;31mFileNotFoundError\u001b[0m: [WinError 2] The system cannot find the file specified: 'demofile.txt'"
     ]
    }
   ],
   "source": [
    "import os\n",
    "os.remove(\"demofile.txt\")"
   ]
  },
  {
   "cell_type": "markdown",
   "id": "4d1efb13",
   "metadata": {},
   "source": [
    "# Deleting Entire Folders\n",
    "\n",
    "To delete an entire folder, use the os.rmdir() method\n",
    "\n",
    "However, note that you can only remove empty folders this way."
   ]
  }
 ],
 "metadata": {
  "kernelspec": {
   "display_name": "Python 3",
   "language": "python",
   "name": "python3"
  },
  "language_info": {
   "codemirror_mode": {
    "name": "ipython",
    "version": 3
   },
   "file_extension": ".py",
   "mimetype": "text/x-python",
   "name": "python",
   "nbconvert_exporter": "python",
   "pygments_lexer": "ipython3",
   "version": "3.9.4"
  }
 },
 "nbformat": 4,
 "nbformat_minor": 5
}
