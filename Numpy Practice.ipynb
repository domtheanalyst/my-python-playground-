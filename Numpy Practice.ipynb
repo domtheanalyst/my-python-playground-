{
 "cells": [
  {
   "cell_type": "code",
   "execution_count": 1,
   "id": "157ec0b4",
   "metadata": {},
   "outputs": [
    {
     "name": "stdout",
     "output_type": "stream",
     "text": [
      "Requirement already satisfied: numpy in c:\\users\\dell\\appdata\\local\\programs\\python\\python39\\lib\\site-packages (1.20.3)Note: you may need to restart the kernel to use updated packages.\n",
      "\n"
     ]
    }
   ],
   "source": [
    "pip install numpy"
   ]
  },
  {
   "cell_type": "code",
   "execution_count": 1,
   "id": "8d95d021",
   "metadata": {},
   "outputs": [],
   "source": [
    "import numpy as np"
   ]
  },
  {
   "cell_type": "code",
   "execution_count": 3,
   "id": "1e841a33",
   "metadata": {},
   "outputs": [],
   "source": [
    "my_first_array = np.array([1,2,3,4,5,6,7])"
   ]
  },
  {
   "cell_type": "code",
   "execution_count": 4,
   "id": "9bf19f8e",
   "metadata": {},
   "outputs": [
    {
     "name": "stdout",
     "output_type": "stream",
     "text": [
      "[1 2 3 4 5 6 7]\n"
     ]
    }
   ],
   "source": [
    "print(my_first_array)"
   ]
  },
  {
   "cell_type": "code",
   "execution_count": 12,
   "id": "7b3e86b5",
   "metadata": {},
   "outputs": [
    {
     "data": {
      "text/plain": [
       "numpy.ndarray"
      ]
     },
     "execution_count": 12,
     "metadata": {},
     "output_type": "execute_result"
    }
   ],
   "source": [
    "type(my_first_array)"
   ]
  },
  {
   "cell_type": "code",
   "execution_count": 11,
   "id": "36410014",
   "metadata": {},
   "outputs": [
    {
     "name": "stdout",
     "output_type": "stream",
     "text": [
      "1.20.3\n"
     ]
    }
   ],
   "source": [
    "print(np.__version__)"
   ]
  },
  {
   "cell_type": "code",
   "execution_count": 13,
   "id": "59450894",
   "metadata": {},
   "outputs": [],
   "source": [
    "arr = np.array((1,2,3,4,5,6,7))"
   ]
  },
  {
   "cell_type": "code",
   "execution_count": 14,
   "id": "b58aa737",
   "metadata": {},
   "outputs": [
    {
     "name": "stdout",
     "output_type": "stream",
     "text": [
      "[1 2 3 4 5 6 7]\n"
     ]
    }
   ],
   "source": [
    "print(arr)"
   ]
  },
  {
   "cell_type": "code",
   "execution_count": 15,
   "id": "c05a7483",
   "metadata": {},
   "outputs": [
    {
     "data": {
      "text/plain": [
       "numpy.ndarray"
      ]
     },
     "execution_count": 15,
     "metadata": {},
     "output_type": "execute_result"
    }
   ],
   "source": [
    "type(arr)"
   ]
  },
  {
   "cell_type": "code",
   "execution_count": 16,
   "id": "11e260d2",
   "metadata": {},
   "outputs": [],
   "source": [
    "arr = np.array(20)"
   ]
  },
  {
   "cell_type": "code",
   "execution_count": 18,
   "id": "1e990f59",
   "metadata": {},
   "outputs": [
    {
     "name": "stdout",
     "output_type": "stream",
     "text": [
      "<class 'numpy.ndarray'>\n"
     ]
    }
   ],
   "source": [
    "print(type(arr))"
   ]
  },
  {
   "cell_type": "code",
   "execution_count": 19,
   "id": "a3cc9ac2",
   "metadata": {},
   "outputs": [
    {
     "name": "stdout",
     "output_type": "stream",
     "text": [
      "20\n"
     ]
    }
   ],
   "source": [
    "print(arr)"
   ]
  },
  {
   "cell_type": "code",
   "execution_count": 20,
   "id": "c559734d",
   "metadata": {},
   "outputs": [
    {
     "name": "stdout",
     "output_type": "stream",
     "text": [
      "40\n"
     ]
    }
   ],
   "source": [
    "# 0-D arrays\n",
    "\n",
    "zi = np.array(40)\n",
    "\n",
    "print(zi)"
   ]
  },
  {
   "cell_type": "code",
   "execution_count": 21,
   "id": "bbc85af6",
   "metadata": {},
   "outputs": [
    {
     "name": "stdout",
     "output_type": "stream",
     "text": [
      "[1 2 3 4 5 6 7]\n"
     ]
    }
   ],
   "source": [
    "# 1-D array\n",
    "\n",
    "one_direct = np.array([1,2,3,4,5,6,7])\n",
    "\n",
    "print(one_direct)"
   ]
  },
  {
   "cell_type": "code",
   "execution_count": 27,
   "id": "ecf3e4de",
   "metadata": {},
   "outputs": [
    {
     "name": "stdout",
     "output_type": "stream",
     "text": [
      "[[1 2 3 4]\n",
      " [5 6 7 8]]\n"
     ]
    }
   ],
   "source": [
    "# 2-D array is an array that has 1-D arrays as its elements\n",
    "\n",
    "arr = np.array([[1,2,3,4], [5,6,7,8]])\n",
    "\n",
    "print(arr)"
   ]
  },
  {
   "cell_type": "code",
   "execution_count": 35,
   "id": "3e49c323",
   "metadata": {},
   "outputs": [],
   "source": [
    "# 3-D arrays. An array that has 2-D arrays(matrices) as its elements is called 3-D array\n",
    "\n",
    "arr = np.array([[[1,2,3], [4,5,6]], [[1,2,3], [4,5,6]]])"
   ]
  },
  {
   "cell_type": "code",
   "execution_count": 36,
   "id": "37cf7071",
   "metadata": {},
   "outputs": [
    {
     "name": "stdout",
     "output_type": "stream",
     "text": [
      "[[[1 2 3]\n",
      "  [4 5 6]]\n",
      "\n",
      " [[1 2 3]\n",
      "  [4 5 6]]]\n"
     ]
    }
   ],
   "source": [
    "print(arr)"
   ]
  },
  {
   "cell_type": "code",
   "execution_count": 37,
   "id": "8123c1d0",
   "metadata": {},
   "outputs": [
    {
     "data": {
      "text/plain": [
       "3"
      ]
     },
     "execution_count": 37,
     "metadata": {},
     "output_type": "execute_result"
    }
   ],
   "source": [
    "# find out how many dimensions an array has\n",
    "\n",
    "arr.ndim"
   ]
  },
  {
   "cell_type": "code",
   "execution_count": 38,
   "id": "6a8fdcc1",
   "metadata": {},
   "outputs": [
    {
     "name": "stdout",
     "output_type": "stream",
     "text": [
      "3\n"
     ]
    }
   ],
   "source": [
    "print(arr.ndim)"
   ]
  },
  {
   "cell_type": "code",
   "execution_count": 40,
   "id": "5292d65e",
   "metadata": {},
   "outputs": [],
   "source": [
    "arr = np.array([1,2,3,4,5], ndmin=4)"
   ]
  },
  {
   "cell_type": "code",
   "execution_count": 41,
   "id": "0a664ebe",
   "metadata": {},
   "outputs": [
    {
     "name": "stdout",
     "output_type": "stream",
     "text": [
      "[[[[1 2 3 4 5]]]]\n"
     ]
    }
   ],
   "source": [
    "print(arr)"
   ]
  },
  {
   "cell_type": "code",
   "execution_count": 44,
   "id": "f3dfd0f5",
   "metadata": {},
   "outputs": [
    {
     "name": "stdout",
     "output_type": "stream",
     "text": [
      "4\n"
     ]
    }
   ],
   "source": [
    "print(arr.ndim)"
   ]
  },
  {
   "cell_type": "code",
   "execution_count": 53,
   "id": "c99a3b73",
   "metadata": {},
   "outputs": [
    {
     "name": "stdout",
     "output_type": "stream",
     "text": [
      "this array has 4 dimensions\n"
     ]
    }
   ],
   "source": [
    "print('this array has' \" \" + str(arr.ndim) + \" \" 'dimensions')"
   ]
  },
  {
   "cell_type": "markdown",
   "id": "41c4415e",
   "metadata": {},
   "source": [
    "# Array Indexing or How to Access Array Elements\n",
    "\n",
    "You can access an array elements by using its index. Numpy array indexes start from index 0."
   ]
  },
  {
   "cell_type": "code",
   "execution_count": 54,
   "id": "ea038b09",
   "metadata": {},
   "outputs": [
    {
     "name": "stdout",
     "output_type": "stream",
     "text": [
      "1\n"
     ]
    }
   ],
   "source": [
    "arr = np.array([1,2,3,4,5,6,7])\n",
    "\n",
    "print(arr[0])"
   ]
  },
  {
   "cell_type": "code",
   "execution_count": 56,
   "id": "71da912a",
   "metadata": {},
   "outputs": [
    {
     "name": "stdout",
     "output_type": "stream",
     "text": [
      "6\n"
     ]
    }
   ],
   "source": [
    "print(arr[5])"
   ]
  },
  {
   "cell_type": "code",
   "execution_count": 57,
   "id": "e0b1bc4c",
   "metadata": {},
   "outputs": [
    {
     "name": "stdout",
     "output_type": "stream",
     "text": [
      "9\n"
     ]
    }
   ],
   "source": [
    "print(arr[4] + arr[3])"
   ]
  },
  {
   "cell_type": "code",
   "execution_count": 58,
   "id": "e193cc83",
   "metadata": {},
   "outputs": [
    {
     "name": "stdout",
     "output_type": "stream",
     "text": [
      "2nd element on 1st dim: 2\n"
     ]
    }
   ],
   "source": [
    "# to access 2-D arrays use two comma separated values, these values represent the dimension and the index of the element you want.\n",
    "\n",
    "arr = np.array([[1,2,3,4,5], [6,7,8,9,10]])\n",
    "\n",
    "print('2nd element on 1st dim:', arr[0,1])"
   ]
  },
  {
   "cell_type": "code",
   "execution_count": 60,
   "id": "249464e8",
   "metadata": {},
   "outputs": [
    {
     "name": "stdout",
     "output_type": "stream",
     "text": [
      "3rd element on 2nd dimension: 9\n"
     ]
    }
   ],
   "source": [
    "print('3rd element on 2nd dimension:', arr[1, 3])"
   ]
  },
  {
   "cell_type": "markdown",
   "id": "00faa970",
   "metadata": {},
   "source": [
    "# Numpy Array Slicing\n",
    "\n",
    "Slicing means taking elements from one given index to another given index.\n",
    "\n",
    "You can slice using : [start:end] and [start;end:step]"
   ]
  },
  {
   "cell_type": "code",
   "execution_count": 61,
   "id": "4e2eccff",
   "metadata": {},
   "outputs": [
    {
     "name": "stdout",
     "output_type": "stream",
     "text": [
      "[4 5 6 7 8 9]\n"
     ]
    }
   ],
   "source": [
    "arr = np.array([1,2,3,4,5,6,7,8,9,10])\n",
    "\n",
    "print(arr[3:9])"
   ]
  },
  {
   "cell_type": "code",
   "execution_count": 64,
   "id": "1a6ac47b",
   "metadata": {},
   "outputs": [
    {
     "name": "stdout",
     "output_type": "stream",
     "text": [
      "[2 5 8]\n"
     ]
    }
   ],
   "source": [
    "print(arr[1:9:3])"
   ]
  },
  {
   "cell_type": "code",
   "execution_count": 65,
   "id": "ef56ea57",
   "metadata": {},
   "outputs": [
    {
     "name": "stdout",
     "output_type": "stream",
     "text": [
      "[ 5  6  7  8  9 10]\n"
     ]
    }
   ],
   "source": [
    "print(arr[4:])"
   ]
  },
  {
   "cell_type": "code",
   "execution_count": 67,
   "id": "70e35569",
   "metadata": {},
   "outputs": [
    {
     "name": "stdout",
     "output_type": "stream",
     "text": [
      "[1 2 3 4 5 6]\n"
     ]
    }
   ],
   "source": [
    "print(arr[:6])"
   ]
  },
  {
   "cell_type": "code",
   "execution_count": 68,
   "id": "1a18811d",
   "metadata": {},
   "outputs": [
    {
     "name": "stdout",
     "output_type": "stream",
     "text": [
      "[1 2 3 4 5 6 7 8 9]\n"
     ]
    }
   ],
   "source": [
    "# Negative slicing\n",
    "\n",
    "print(arr[:-1])"
   ]
  },
  {
   "cell_type": "code",
   "execution_count": 84,
   "id": "23197471",
   "metadata": {},
   "outputs": [],
   "source": [
    "arr = np.array([0, 0, 0, 0], ndmin=2)"
   ]
  },
  {
   "cell_type": "code",
   "execution_count": 85,
   "id": "1d621ef9",
   "metadata": {},
   "outputs": [
    {
     "name": "stdout",
     "output_type": "stream",
     "text": [
      "[[0 0 0 0]]\n"
     ]
    }
   ],
   "source": [
    "print(arr)"
   ]
  },
  {
   "cell_type": "code",
   "execution_count": 86,
   "id": "adb67171",
   "metadata": {},
   "outputs": [
    {
     "data": {
      "text/plain": [
       "2"
      ]
     },
     "execution_count": 86,
     "metadata": {},
     "output_type": "execute_result"
    }
   ],
   "source": [
    "arr.ndim"
   ]
  },
  {
   "cell_type": "code",
   "execution_count": 89,
   "id": "1f6066fb",
   "metadata": {},
   "outputs": [
    {
     "data": {
      "text/plain": [
       "array([0., 0., 0., 0.])"
      ]
     },
     "execution_count": 89,
     "metadata": {},
     "output_type": "execute_result"
    }
   ],
   "source": [
    "# creating an array filled with zeros\n",
    "np.zeros(4)"
   ]
  },
  {
   "cell_type": "code",
   "execution_count": 88,
   "id": "d07cd7ce",
   "metadata": {},
   "outputs": [
    {
     "data": {
      "text/plain": [
       "array([1., 1., 1., 1.])"
      ]
     },
     "execution_count": 88,
     "metadata": {},
     "output_type": "execute_result"
    }
   ],
   "source": [
    "# creating an array filled with ones\n",
    "\n",
    "np.ones(4)"
   ]
  },
  {
   "cell_type": "code",
   "execution_count": 92,
   "id": "1869233b",
   "metadata": {},
   "outputs": [
    {
     "data": {
      "text/plain": [
       "array([0., 0.])"
      ]
     },
     "execution_count": 92,
     "metadata": {},
     "output_type": "execute_result"
    }
   ],
   "source": [
    "np.empty(2)"
   ]
  },
  {
   "cell_type": "code",
   "execution_count": 93,
   "id": "7aef1bad",
   "metadata": {},
   "outputs": [
    {
     "data": {
      "text/plain": [
       "array([0, 1, 2, 3, 4, 5, 6, 7, 8, 9])"
      ]
     },
     "execution_count": 93,
     "metadata": {},
     "output_type": "execute_result"
    }
   ],
   "source": [
    "# create an array with a range of elements\n",
    "np.arange(10)"
   ]
  },
  {
   "cell_type": "code",
   "execution_count": 95,
   "id": "4067f600",
   "metadata": {},
   "outputs": [
    {
     "data": {
      "text/plain": [
       "array([1, 3, 5, 7, 9])"
      ]
     },
     "execution_count": 95,
     "metadata": {},
     "output_type": "execute_result"
    }
   ],
   "source": [
    "np.arange(1,10,2)"
   ]
  },
  {
   "cell_type": "markdown",
   "id": "51d84974",
   "metadata": {},
   "source": [
    "# Adding, Removing and Sorting Array Elements.\n",
    "\n",
    "You use np.sort() and np.concatenate() functions\n",
    "\n",
    "When sorting with np.sort(), you can specify the axis, kind, and order when using the function.\n",
    "\n",
    "\n"
   ]
  },
  {
   "cell_type": "code",
   "execution_count": 96,
   "id": "81a9b4f8",
   "metadata": {},
   "outputs": [],
   "source": [
    "arr = np.arange(10)"
   ]
  },
  {
   "cell_type": "code",
   "execution_count": 97,
   "id": "ed534815",
   "metadata": {},
   "outputs": [
    {
     "name": "stdout",
     "output_type": "stream",
     "text": [
      "[0 1 2 3 4 5 6 7 8 9]\n"
     ]
    }
   ],
   "source": [
    "print(arr)"
   ]
  },
  {
   "cell_type": "code",
   "execution_count": 98,
   "id": "efd48eb5",
   "metadata": {},
   "outputs": [
    {
     "data": {
      "text/plain": [
       "numpy.ndarray"
      ]
     },
     "execution_count": 98,
     "metadata": {},
     "output_type": "execute_result"
    }
   ],
   "source": [
    "type(arr)"
   ]
  },
  {
   "cell_type": "code",
   "execution_count": 104,
   "id": "d16c51af",
   "metadata": {},
   "outputs": [],
   "source": [
    "arr = np.array([10, 9, 12, 15, 30, 54, 3, 8, 9, 11])"
   ]
  },
  {
   "cell_type": "code",
   "execution_count": 106,
   "id": "1afb1f94",
   "metadata": {},
   "outputs": [
    {
     "name": "stdout",
     "output_type": "stream",
     "text": [
      "[10  9 12 15 30 54  3  8  9 11]\n"
     ]
    }
   ],
   "source": [
    "print(arr)"
   ]
  },
  {
   "cell_type": "code",
   "execution_count": 108,
   "id": "64762578",
   "metadata": {},
   "outputs": [
    {
     "name": "stdout",
     "output_type": "stream",
     "text": [
      "[ 3  8  9  9 10 11 12 15 30 54]\n"
     ]
    }
   ],
   "source": [
    "print(np.sort(arr))"
   ]
  },
  {
   "cell_type": "code",
   "execution_count": 109,
   "id": "7f95ef57",
   "metadata": {},
   "outputs": [],
   "source": [
    "# Concatenate two arrays\n",
    "\n",
    "a = np.array([1, 2, 3, 4])\n",
    "\n",
    "b = np.array([5, 6, 7, 8,])\n"
   ]
  },
  {
   "cell_type": "code",
   "execution_count": 112,
   "id": "48210915",
   "metadata": {},
   "outputs": [],
   "source": [
    "c = np.concatenate((a, b))"
   ]
  },
  {
   "cell_type": "code",
   "execution_count": 113,
   "id": "1f894efb",
   "metadata": {},
   "outputs": [
    {
     "name": "stdout",
     "output_type": "stream",
     "text": [
      "[1 2 3 4 5 6 7 8]\n"
     ]
    }
   ],
   "source": [
    "print(c)"
   ]
  },
  {
   "cell_type": "code",
   "execution_count": 114,
   "id": "5348b2b7",
   "metadata": {},
   "outputs": [],
   "source": [
    "# Another example\n",
    "\n",
    "x = np.array([[1,2], [3,4]])\n",
    "\n",
    "y = np.array([[5, 6]])\n"
   ]
  },
  {
   "cell_type": "code",
   "execution_count": 115,
   "id": "11166de9",
   "metadata": {},
   "outputs": [],
   "source": [
    "z = np.concatenate((x,y), axis=0)"
   ]
  },
  {
   "cell_type": "code",
   "execution_count": 116,
   "id": "2919330b",
   "metadata": {},
   "outputs": [
    {
     "name": "stdout",
     "output_type": "stream",
     "text": [
      "[[1 2]\n",
      " [3 4]\n",
      " [5 6]]\n"
     ]
    }
   ],
   "source": [
    "print(z)"
   ]
  },
  {
   "cell_type": "code",
   "execution_count": 117,
   "id": "9579e3db",
   "metadata": {},
   "outputs": [
    {
     "data": {
      "text/plain": [
       "2"
      ]
     },
     "execution_count": 117,
     "metadata": {},
     "output_type": "execute_result"
    }
   ],
   "source": [
    "#ndarray.ndim used to tell the number of dimensions or axes of an array\n",
    "\n",
    "z.ndim"
   ]
  },
  {
   "cell_type": "code",
   "execution_count": 119,
   "id": "1c57411c",
   "metadata": {},
   "outputs": [
    {
     "data": {
      "text/plain": [
       "6"
      ]
     },
     "execution_count": 119,
     "metadata": {},
     "output_type": "execute_result"
    }
   ],
   "source": [
    "#ndarray.size used to find the total number of elements of an array\n",
    "\n",
    "z.size"
   ]
  },
  {
   "cell_type": "code",
   "execution_count": 121,
   "id": "be231ea5",
   "metadata": {},
   "outputs": [
    {
     "name": "stdout",
     "output_type": "stream",
     "text": [
      "[[1 2]\n",
      " [3 4]\n",
      " [5 6]]\n"
     ]
    },
    {
     "data": {
      "text/plain": [
       "(3, 2)"
      ]
     },
     "execution_count": 121,
     "metadata": {},
     "output_type": "execute_result"
    }
   ],
   "source": [
    "# ndarray.shape, used to display a tuple of numbers that show the number of elements stored along each dimension of the array\n",
    "# it shows that the array z has 3 rows and 2 columns\n",
    "\n",
    "print(z)\n",
    "z.shape"
   ]
  },
  {
   "cell_type": "code",
   "execution_count": 122,
   "id": "a02272ef",
   "metadata": {},
   "outputs": [],
   "source": [
    "# Reshaping an array with arr.reshape()\n",
    "\n",
    "p = np.arange(10)"
   ]
  },
  {
   "cell_type": "code",
   "execution_count": 123,
   "id": "170db714",
   "metadata": {},
   "outputs": [
    {
     "name": "stdout",
     "output_type": "stream",
     "text": [
      "[0 1 2 3 4 5 6 7 8 9]\n"
     ]
    }
   ],
   "source": [
    "print(p)"
   ]
  },
  {
   "cell_type": "code",
   "execution_count": 125,
   "id": "97997897",
   "metadata": {},
   "outputs": [],
   "source": [
    "# reshaping the array\n",
    "\n",
    "r = p.reshape(5,2)"
   ]
  },
  {
   "cell_type": "code",
   "execution_count": 126,
   "id": "7f008545",
   "metadata": {},
   "outputs": [
    {
     "name": "stdout",
     "output_type": "stream",
     "text": [
      "[[0 1]\n",
      " [2 3]\n",
      " [4 5]\n",
      " [6 7]\n",
      " [8 9]]\n"
     ]
    }
   ],
   "source": [
    "print(r)"
   ]
  },
  {
   "cell_type": "code",
   "execution_count": 127,
   "id": "3fddf9bd",
   "metadata": {},
   "outputs": [],
   "source": [
    "q = p.reshape(2, 5)"
   ]
  },
  {
   "cell_type": "code",
   "execution_count": 128,
   "id": "15b660d5",
   "metadata": {},
   "outputs": [
    {
     "name": "stdout",
     "output_type": "stream",
     "text": [
      "[[0 1 2 3 4]\n",
      " [5 6 7 8 9]]\n"
     ]
    }
   ],
   "source": [
    "print(q)"
   ]
  },
  {
   "cell_type": "markdown",
   "id": "498499ee",
   "metadata": {},
   "source": [
    "# Filtering through arrays in Numpy using for loop"
   ]
  },
  {
   "cell_type": "code",
   "execution_count": 138,
   "id": "276436c7",
   "metadata": {},
   "outputs": [],
   "source": [
    "arr = np.array([2, 11, 23, 24, 34, 45, 43, 47, 6, 5, 48, 7, 87, 9, 60, 100, 50])\n",
    "filtered_arr = []\n",
    "\n",
    "for i in arr:\n",
    "    if i < 30:\n",
    "        filtered_arr.append(True)\n",
    "    else:\n",
    "        filtered_arr.append(False)\n",
    "        \n",
    "new_arr = arr[filtered_arr]"
   ]
  },
  {
   "cell_type": "code",
   "execution_count": 139,
   "id": "517a881e",
   "metadata": {},
   "outputs": [
    {
     "name": "stdout",
     "output_type": "stream",
     "text": [
      "[True, True, True, True, False, False, False, False, True, True, False, True, False, True, False, False, False]\n"
     ]
    }
   ],
   "source": [
    "print(filtered_arr)"
   ]
  },
  {
   "cell_type": "code",
   "execution_count": 140,
   "id": "25573d19",
   "metadata": {},
   "outputs": [
    {
     "name": "stdout",
     "output_type": "stream",
     "text": [
      "[ 2 11 23 24  6  5  7  9]\n"
     ]
    }
   ],
   "source": [
    "print(new_arr)"
   ]
  },
  {
   "cell_type": "markdown",
   "id": "ccc43187",
   "metadata": {},
   "source": [
    "# Create Filter Directly from Array"
   ]
  },
  {
   "cell_type": "code",
   "execution_count": 141,
   "id": "d4c5b594",
   "metadata": {},
   "outputs": [
    {
     "name": "stdout",
     "output_type": "stream",
     "text": [
      "[  2  11  23  24  34  45  43  47   6   5  48   7  87   9  60 100  50]\n"
     ]
    }
   ],
   "source": [
    "# instead of using the for loop to filter we can filter directly using comparison operators\n",
    "\n",
    "print(arr)"
   ]
  },
  {
   "cell_type": "code",
   "execution_count": 145,
   "id": "0d71e5b7",
   "metadata": {},
   "outputs": [],
   "source": [
    "filter_arr = arr < 30\n",
    "\n",
    "new_arr = arr[filter_arr]"
   ]
  },
  {
   "cell_type": "code",
   "execution_count": 146,
   "id": "d5e838a8",
   "metadata": {},
   "outputs": [
    {
     "name": "stdout",
     "output_type": "stream",
     "text": [
      "[ True  True  True  True False False False False  True  True False  True\n",
      " False  True False False False]\n"
     ]
    }
   ],
   "source": [
    "print(filter_arr)"
   ]
  },
  {
   "cell_type": "code",
   "execution_count": 147,
   "id": "d5c864f9",
   "metadata": {},
   "outputs": [
    {
     "name": "stdout",
     "output_type": "stream",
     "text": [
      "[ 2 11 23 24  6  5  7  9]\n"
     ]
    }
   ],
   "source": [
    "print(new_arr)"
   ]
  },
  {
   "cell_type": "code",
   "execution_count": 149,
   "id": "4e77830b",
   "metadata": {},
   "outputs": [
    {
     "name": "stdout",
     "output_type": "stream",
     "text": [
      "[ True False False  True  True False False False  True False  True False\n",
      " False False  True  True  True]\n",
      "[  2  24  34   6  48  60 100  50]\n"
     ]
    }
   ],
   "source": [
    "# create a filter that returns only even numbers from the arr\n",
    "\n",
    "filter_arr = arr % 2 == 0\n",
    "\n",
    "new_arr = arr[filter_arr]\n",
    "\n",
    "print(filter_arr)\n",
    "\n",
    "print(new_arr)"
   ]
  },
  {
   "cell_type": "code",
   "execution_count": 150,
   "id": "1e4f20a1",
   "metadata": {},
   "outputs": [
    {
     "name": "stdout",
     "output_type": "stream",
     "text": [
      "[False  True  True False False  True  True  True False  True False  True\n",
      "  True  True False False False]\n",
      "[11 23 45 43 47  5  7 87  9]\n"
     ]
    }
   ],
   "source": [
    "# create a filter that returns only odd numbers from the arr\n",
    "\n",
    "filter_arr = arr % 2 != 0\n",
    "\n",
    "new_arr = arr[filter_arr]\n",
    "\n",
    "print(filter_arr)\n",
    "\n",
    "print(new_arr)"
   ]
  }
 ],
 "metadata": {
  "kernelspec": {
   "display_name": "Python 3",
   "language": "python",
   "name": "python3"
  },
  "language_info": {
   "codemirror_mode": {
    "name": "ipython",
    "version": 3
   },
   "file_extension": ".py",
   "mimetype": "text/x-python",
   "name": "python",
   "nbconvert_exporter": "python",
   "pygments_lexer": "ipython3",
   "version": "3.9.4"
  }
 },
 "nbformat": 4,
 "nbformat_minor": 5
}
