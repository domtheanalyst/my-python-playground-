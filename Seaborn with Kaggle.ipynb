{
 "cells": [
  {
   "cell_type": "markdown",
   "id": "749f005a",
   "metadata": {},
   "source": [
    "# Seaborn\n",
    "\n",
    "Seaborn is a python library which uses matplotlib underneath to plot graphs.\n",
    "\n"
   ]
  },
  {
   "cell_type": "code",
   "execution_count": 3,
   "id": "ada5ce37",
   "metadata": {},
   "outputs": [
    {
     "name": "stdout",
     "output_type": "stream",
     "text": [
      "Collecting seabornNote: you may need to restart the kernel to use updated packages.\n",
      "\n",
      "  Downloading seaborn-0.11.1-py3-none-any.whl (285 kB)\n",
      "Requirement already satisfied: pandas>=0.23 in c:\\users\\dell\\appdata\\local\\programs\\python\\python39\\lib\\site-packages (from seaborn) (1.3.0)\n",
      "Collecting scipy>=1.0\n",
      "  Downloading scipy-1.7.0-cp39-cp39-win_amd64.whl (33.8 MB)\n",
      "Requirement already satisfied: matplotlib>=2.2 in c:\\users\\dell\\appdata\\local\\programs\\python\\python39\\lib\\site-packages (from seaborn) (3.4.2)\n",
      "Requirement already satisfied: numpy>=1.15 in c:\\users\\dell\\appdata\\local\\programs\\python\\python39\\lib\\site-packages (from seaborn) (1.20.3)\n",
      "Requirement already satisfied: pyparsing>=2.2.1 in c:\\users\\dell\\appdata\\local\\programs\\python\\python39\\lib\\site-packages (from matplotlib>=2.2->seaborn) (2.4.7)\n",
      "Requirement already satisfied: pillow>=6.2.0 in c:\\users\\dell\\appdata\\local\\programs\\python\\python39\\lib\\site-packages (from matplotlib>=2.2->seaborn) (8.2.0)\n",
      "Requirement already satisfied: cycler>=0.10 in c:\\users\\dell\\appdata\\local\\programs\\python\\python39\\lib\\site-packages (from matplotlib>=2.2->seaborn) (0.10.0)\n",
      "Requirement already satisfied: python-dateutil>=2.7 in c:\\users\\dell\\appdata\\roaming\\python\\python39\\site-packages (from matplotlib>=2.2->seaborn) (2.8.1)\n",
      "Requirement already satisfied: kiwisolver>=1.0.1 in c:\\users\\dell\\appdata\\local\\programs\\python\\python39\\lib\\site-packages (from matplotlib>=2.2->seaborn) (1.3.1)\n",
      "Requirement already satisfied: six in c:\\users\\dell\\appdata\\roaming\\python\\python39\\site-packages (from cycler>=0.10->matplotlib>=2.2->seaborn) (1.15.0)\n",
      "Requirement already satisfied: pytz>=2017.3 in c:\\users\\dell\\appdata\\local\\programs\\python\\python39\\lib\\site-packages (from pandas>=0.23->seaborn) (2021.1)\n",
      "Installing collected packages: scipy, seaborn\n",
      "Successfully installed scipy-1.7.0 seaborn-0.11.1\n"
     ]
    }
   ],
   "source": [
    "pip install seaborn"
   ]
  },
  {
   "cell_type": "code",
   "execution_count": 4,
   "id": "c6e8e0c7",
   "metadata": {},
   "outputs": [],
   "source": [
    "import seaborn as sns"
   ]
  },
  {
   "cell_type": "code",
   "execution_count": 5,
   "id": "4843321f",
   "metadata": {},
   "outputs": [],
   "source": [
    "import pandas as pd"
   ]
  },
  {
   "cell_type": "code",
   "execution_count": 8,
   "id": "49d50e42",
   "metadata": {},
   "outputs": [],
   "source": [
    "import matplotlib.pyplot as plt\n",
    "pd.plotting.register_matplotlib_converters()\n"
   ]
  },
  {
   "cell_type": "code",
   "execution_count": 9,
   "id": "2a7756e3",
   "metadata": {},
   "outputs": [],
   "source": [
    "%matplotlib inline\n"
   ]
  },
  {
   "cell_type": "code",
   "execution_count": 10,
   "id": "bc478fbe",
   "metadata": {},
   "outputs": [
    {
     "name": "stdout",
     "output_type": "stream",
     "text": [
      "Setup Complete\n"
     ]
    }
   ],
   "source": [
    "print(\"Setup Complete\")"
   ]
  },
  {
   "cell_type": "code",
   "execution_count": 17,
   "id": "b36b2cbc",
   "metadata": {},
   "outputs": [
    {
     "data": {
      "text/plain": [
       "<AxesSubplot:>"
      ]
     },
     "execution_count": 17,
     "metadata": {},
     "output_type": "execute_result"
    },
    {
     "data": {
      "image/png": "[encoded data removed]",
      "text/plain": [
       "<Figure size 432x288 with 1 Axes>"
      ]
     },
     "metadata": {
      "needs_background": "light"
     },
     "output_type": "display_data"
    }
   ],
   "source": [
    "# to plot a line chart using seaborn. You use the lineplot function with data set to the value you want to plot\n",
    "\n",
    "testdata = [30, 40, 20, 50, 80, 55, 90, 120, 45, 10]\n",
    "sns.lineplot(data= testdata)"
   ]
  },
  {
   "cell_type": "code",
   "execution_count": null,
   "id": "f9c0af37",
   "metadata": {},
   "outputs": [],
   "source": [
    "# Set the with and height of your figure with plt.figure(figsize= (14, 6))\n",
    " # Use plt.title(\"Title\") to add title to your plot"
   ]
  }
 ],
 "metadata": {
  "kernelspec": {
   "display_name": "Python 3",
   "language": "python",
   "name": "python3"
  },
  "language_info": {
   "codemirror_mode": {
    "name": "ipython",
    "version": 3
   },
   "file_extension": ".py",
   "mimetype": "text/x-python",
   "name": "python",
   "nbconvert_exporter": "python",
   "pygments_lexer": "ipython3",
   "version": "3.9.4"
  }
 },
 "nbformat": 4,
 "nbformat_minor": 5
}
