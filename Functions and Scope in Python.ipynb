{
 "cells": [
  {
   "cell_type": "markdown",
   "id": "e3ef4f60",
   "metadata": {},
   "source": [
    "# Functions\n",
    "\n",
    "Functions are reusable sets of instructions. A function can take one or more inputs, perform certain operations, and often returns an output. \n",
    "\n",
    "### Function format\n",
    "\n",
    "def functionName():\n",
    "    statement 1\n",
    "    statement 2\n",
    "    \n",
    "After creating a function, it doesn't get executed until you call it."
   ]
  },
  {
   "cell_type": "code",
   "execution_count": 11,
   "id": "9c05c7cf",
   "metadata": {},
   "outputs": [],
   "source": [
    "# Example\n",
    "\n",
    "def say_my_Name():\n",
    "    print('What is your name?')\n",
    "    print('type in your name below:') \n",
    "    name = input()\n",
    "    print(\"Nice to meet you\", name)"
   ]
  },
  {
   "cell_type": "code",
   "execution_count": 12,
   "id": "8072b30d",
   "metadata": {},
   "outputs": [
    {
     "name": "stdout",
     "output_type": "stream",
     "text": [
      "What is your name?\n",
      "type in your name below:\n",
      "Constantin\n",
      "Nice to meet you Constantin\n"
     ]
    }
   ],
   "source": [
    "say_my_Name()"
   ]
  },
  {
   "cell_type": "markdown",
   "id": "def983c4",
   "metadata": {},
   "source": [
    "# Function arguments\n",
    "\n",
    "A function can accept one or more values as inputs. This values are also called arguments or parameters.\n",
    "\n",
    "Arguments helps us write flexible functions which can perform the same operation on different values.\n",
    "\n",
    "Functions can return a value as a result using the return keyword.\n",
    "\n",
    "The returned value can be stored in a variable or used in other expressions."
   ]
  },
  {
   "cell_type": "code",
   "execution_count": 13,
   "id": "8c2feb97",
   "metadata": {},
   "outputs": [],
   "source": [
    "# Examples\n",
    "\n",
    "def filter_even(number_list):\n",
    "    result_list = []\n",
    "    for number in number_list:\n",
    "        if number % 2 == 0:\n",
    "            result_list.append(number)\n",
    "    return result_list"
   ]
  },
  {
   "cell_type": "code",
   "execution_count": 16,
   "id": "68da8f94",
   "metadata": {},
   "outputs": [
    {
     "data": {
      "text/plain": [
       "[0, 2, 4, 6, 8, 10, 12, 14, 16, 18]"
      ]
     },
     "execution_count": 16,
     "metadata": {},
     "output_type": "execute_result"
    }
   ],
   "source": [
    "filter_even(range(20))"
   ]
  },
  {
   "cell_type": "markdown",
   "id": "72682375",
   "metadata": {},
   "source": [
    "# Named Arguments in Python\n",
    "\n",
    "To avoid confusion when using many arguments you can give them a name and then assign values to them just like variables\n",
    "\n",
    "E.g.\n",
    "\n",
    "def simple_Interest function(principal = 23000, interest = 2000, duration = 3, rate = 0.5)\n"
   ]
  },
  {
   "cell_type": "markdown",
   "id": "46e9d4eb",
   "metadata": {},
   "source": [
    "# Python Modules\n",
    "\n",
    "Modules are files containing python codes ( variables, functions, classes, etc.)\n",
    "\n",
    "They are used to organize large python codes for projects into files and folders that can then be easily accessed and managed.\n",
    "\n",
    "In order to use the function, class, or variable from a module, it has to be imported using its name."
   ]
  }
 ],
 "metadata": {
  "kernelspec": {
   "display_name": "Python 3",
   "language": "python",
   "name": "python3"
  },
  "language_info": {
   "codemirror_mode": {
    "name": "ipython",
    "version": 3
   },
   "file_extension": ".py",
   "mimetype": "text/x-python",
   "name": "python",
   "nbconvert_exporter": "python",
   "pygments_lexer": "ipython3",
   "version": "3.9.4"
  }
 },
 "nbformat": 4,
 "nbformat_minor": 5
}
