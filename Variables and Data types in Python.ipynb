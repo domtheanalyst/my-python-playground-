{
 "cells": [
  {
   "cell_type": "code",
   "execution_count": null,
   "id": "ea1d7cc2",
   "metadata": {},
   "outputs": [],
   "source": [
    "My_Favorite_Club = \"Liverpool\"\n",
    "\n",
    "print(My_Favorite_Club)"
   ]
  },
  {
   "cell_type": "markdown",
   "id": "0b1eb86d",
   "metadata": {},
   "source": [
    "My_Favorite_Club is a variable, which is like a container for the value \"Liverpool\"\n",
    "\n",
    "\"Liverpool\" is the value inside the variable\n",
    "\n",
    "\"=\" is used to assign the value \"Liverpool\" to the variable My_Favorite_Club"
   ]
  },
  {
   "cell_type": "markdown",
   "id": "b385b4db",
   "metadata": {},
   "source": [
    "## Variable Data types in python\n",
    "\n"
   ]
  },
  {
   "cell_type": "markdown",
   "id": "ea885855",
   "metadata": {},
   "source": [
    "Python Data Types includes\n",
    "\n",
    "1. Integers\n",
    "2. Floats\n",
    "3. Strings\n",
    "4. Boolean\n",
    "\n",
    "These are also known as primitive data types\n",
    "\n",
    "You can use float() function to convert any data type to float\n",
    "You can use int() function to convert any data type to integer\n",
    "\n",
    "Another way to reperesent floats is by using the exponential (e) for example 0.001 is equal to 1e-10\n"
   ]
  },
  {
   "cell_type": "code",
   "execution_count": null,
   "id": "7a8297a1",
   "metadata": {},
   "outputs": [],
   "source": [
    "type(4.52)"
   ]
  },
  {
   "cell_type": "code",
   "execution_count": null,
   "id": "b02ce6ce",
   "metadata": {},
   "outputs": [],
   "source": [
    "type(7)"
   ]
  },
  {
   "cell_type": "code",
   "execution_count": null,
   "id": "f899d28c",
   "metadata": {},
   "outputs": [],
   "source": [
    "float(7)"
   ]
  },
  {
   "cell_type": "code",
   "execution_count": null,
   "id": "8c34e2b5",
   "metadata": {},
   "outputs": [],
   "source": [
    "int(4.51)"
   ]
  },
  {
   "cell_type": "code",
   "execution_count": null,
   "id": "25dc7aa7",
   "metadata": {},
   "outputs": [],
   "source": [
    "type(1e-2)"
   ]
  },
  {
   "cell_type": "markdown",
   "id": "dfec8c6a",
   "metadata": {},
   "source": [
    "Any mathematical calculation involving a float and interger values is converted to float.\n",
    "\n",
    "In divisions, all output is converted to float, if you want the output to be an integer then you will use the double division sign (//)"
   ]
  },
  {
   "cell_type": "code",
   "execution_count": null,
   "id": "ae3a0aa3",
   "metadata": {},
   "outputs": [],
   "source": [
    "x = (5*3.0)"
   ]
  },
  {
   "cell_type": "code",
   "execution_count": null,
   "id": "0fabd35d",
   "metadata": {},
   "outputs": [],
   "source": [
    "print(x)"
   ]
  },
  {
   "cell_type": "code",
   "execution_count": null,
   "id": "047c24c7",
   "metadata": {},
   "outputs": [],
   "source": [
    "type(x)"
   ]
  },
  {
   "cell_type": "code",
   "execution_count": null,
   "id": "12cd7201",
   "metadata": {},
   "outputs": [],
   "source": [
    "z = (10/2)"
   ]
  },
  {
   "cell_type": "code",
   "execution_count": null,
   "id": "ccddd073",
   "metadata": {},
   "outputs": [],
   "source": [
    "print(z)"
   ]
  },
  {
   "cell_type": "code",
   "execution_count": null,
   "id": "10f19446",
   "metadata": {},
   "outputs": [],
   "source": [
    "y =(10//2)\n",
    "\n",
    "print(y)"
   ]
  },
  {
   "cell_type": "markdown",
   "id": "4acbeb70",
   "metadata": {},
   "source": [
    "Booleans represent either True or False, their type is represented by bool"
   ]
  },
  {
   "cell_type": "code",
   "execution_count": null,
   "id": "b0f884bb",
   "metadata": {},
   "outputs": [],
   "source": [
    "is_today_Monday = False"
   ]
  },
  {
   "cell_type": "code",
   "execution_count": null,
   "id": "9ab7f294",
   "metadata": {},
   "outputs": [],
   "source": [
    "is_today_Monday"
   ]
  },
  {
   "cell_type": "code",
   "execution_count": null,
   "id": "e1b8c503",
   "metadata": {},
   "outputs": [],
   "source": [
    "type(is_today_Monday)"
   ]
  },
  {
   "cell_type": "markdown",
   "id": "f080f5ac",
   "metadata": {},
   "source": [
    "Booleans are usually used as the return values for comparisons like (==, =>, <=, !=, etc)\n",
    "\n",
    "In Arithmetic operations, booleans are returned as integers. \n",
    "\n",
    "False is returned as (0) while True is returned as (1)"
   ]
  },
  {
   "cell_type": "code",
   "execution_count": null,
   "id": "fcc297b8",
   "metadata": {},
   "outputs": [],
   "source": [
    "c = (6 + False)\n",
    "\n",
    "d = 3. + True\n",
    "\n",
    "print(c)\n",
    "\n",
    "print(d)"
   ]
  },
  {
   "cell_type": "markdown",
   "id": "bbcb63c9",
   "metadata": {},
   "source": [
    "Any value can be converted to boolean using the bool() function.\n",
    "\n",
    "There are two types of boolean values, the falsy values which always evaluate to False, and the truthy values which are always True.\n",
    "\n",
    "Falsy values includes:\n",
    "\n",
    "the boolean False itself\n",
    "\n",
    "the interger 0\n",
    "\n",
    "the float 0.0\n",
    "empty list []\n",
    "empty tuple ()\n",
    "empty dictiionary {}\n",
    "empty set ()\n",
    "empty value None\n",
    "empty text \"\"\n",
    "empty range(0)\n",
    "\n",
    "Every other thing evaluates to True"
   ]
  },
  {
   "cell_type": "markdown",
   "id": "90f48db1",
   "metadata": {},
   "source": [
    "The None Type\n",
    "\n",
    "Used to state that a variabledoesn't have a value yet."
   ]
  },
  {
   "cell_type": "markdown",
   "id": "39bf8957",
   "metadata": {},
   "source": [
    "##Strings\n",
    "\n",
    "Use to represent text. Every string must be surrounded by single or double quotes.\n",
    "\n",
    "When using a single quotation within a string, you will need to scape it with the backslash (\\) to avoid getting an error."
   ]
  },
  {
   "cell_type": "code",
   "execution_count": null,
   "id": "191586af",
   "metadata": {},
   "outputs": [],
   "source": [
    "# This will give an error message\n",
    "\n",
    "my_goal = 'Get Dominic's apartment'\n",
    "\n",
    "print(my_goal)"
   ]
  },
  {
   "cell_type": "code",
   "execution_count": null,
   "id": "23253f6b",
   "metadata": {},
   "outputs": [],
   "source": [
    "# This is the correct one\n",
    "\n",
    "my_goal = 'Get Dominic\\'s apartment'\n",
    "\n",
    "print(my_goal)"
   ]
  },
  {
   "cell_type": "markdown",
   "id": "84cf5779",
   "metadata": {},
   "source": [
    "Strings created with single or double quotations must begin and end on the same line.\n",
    "\n",
    "To create a multiline string, we can use ''' or \"\"\" to begin and end the string.\n"
   ]
  },
  {
   "cell_type": "markdown",
   "id": "6b274134",
   "metadata": {},
   "source": [
    "##len()\n",
    "\n",
    "You can use the len() function to find out how many characters are in a given string."
   ]
  },
  {
   "cell_type": "code",
   "execution_count": null,
   "id": "9d107a30",
   "metadata": {},
   "outputs": [],
   "source": [
    "my_dream = \"\"\" One day, everything will click, all the efforts would not be in vain. I know that God is watching me.\n",
    "He will make the efforts worth the while, so that when he will lift me up, it would be like a dream. \n",
    "Because when God lifted the captivity of Zion, we were like them that dream.\n",
    "\"\"\""
   ]
  },
  {
   "cell_type": "code",
   "execution_count": null,
   "id": "c63acdc7",
   "metadata": {},
   "outputs": [],
   "source": [
    "print(my_dream)"
   ]
  },
  {
   "cell_type": "code",
   "execution_count": null,
   "id": "7f9eba33",
   "metadata": {},
   "outputs": [],
   "source": [
    "# How many characters are there?\n",
    "len(my_dream)"
   ]
  },
  {
   "cell_type": "markdown",
   "id": "946e5c5b",
   "metadata": {},
   "source": [
    "You can convert a string into a list with the list() function"
   ]
  },
  {
   "cell_type": "code",
   "execution_count": null,
   "id": "f960ac65",
   "metadata": {},
   "outputs": [],
   "source": [
    "today = \"Wednesday\"\n",
    "\n",
    "print(today)"
   ]
  },
  {
   "cell_type": "code",
   "execution_count": null,
   "id": "c22681d2",
   "metadata": {},
   "outputs": [],
   "source": [
    "list(today)"
   ]
  },
  {
   "cell_type": "markdown",
   "id": "ffa960ea",
   "metadata": {},
   "source": [
    "You can access the individual values in a string using their index [] values "
   ]
  },
  {
   "cell_type": "code",
   "execution_count": null,
   "id": "1fae2a9b",
   "metadata": {},
   "outputs": [],
   "source": [
    "# Example\n",
    "\n",
    "tomorrow = \"Thursday\"\n",
    "\n",
    "tomorrow[0]"
   ]
  },
  {
   "cell_type": "code",
   "execution_count": null,
   "id": "3cb5ec5a",
   "metadata": {},
   "outputs": [],
   "source": [
    "tomorrow[-1]"
   ]
  },
  {
   "cell_type": "code",
   "execution_count": null,
   "id": "6c999a39",
   "metadata": {},
   "outputs": [],
   "source": [
    "tomorrow[5]"
   ]
  },
  {
   "cell_type": "markdown",
   "id": "b9f6c3e5",
   "metadata": {},
   "source": [
    "To access a range of values in a string you can use a start:end range to access it."
   ]
  },
  {
   "cell_type": "code",
   "execution_count": null,
   "id": "6c433985",
   "metadata": {},
   "outputs": [],
   "source": [
    "# Example\n",
    "\n",
    "fridayPlan = \"GoToLafia\""
   ]
  },
  {
   "cell_type": "code",
   "execution_count": null,
   "id": "07a63b68",
   "metadata": {},
   "outputs": [],
   "source": [
    "fridayPlan[4:9]"
   ]
  },
  {
   "cell_type": "markdown",
   "id": "5bb5145e",
   "metadata": {},
   "source": [
    "To check if a given string contains some text, use the (in) keyword."
   ]
  },
  {
   "cell_type": "code",
   "execution_count": null,
   "id": "f2e78007",
   "metadata": {},
   "outputs": [],
   "source": [
    "today = \"Wednesday\""
   ]
  },
  {
   "cell_type": "code",
   "execution_count": null,
   "id": "6b2b9c83",
   "metadata": {},
   "outputs": [],
   "source": [
    "\"day\" in today"
   ]
  },
  {
   "cell_type": "code",
   "execution_count": null,
   "id": "87bc9fb8",
   "metadata": {},
   "outputs": [],
   "source": [
    "'Wed' in today"
   ]
  },
  {
   "cell_type": "code",
   "execution_count": null,
   "id": "bf5852f4",
   "metadata": {},
   "outputs": [],
   "source": [
    "# This will give false because Python differentiates between capitalizations\n",
    "\n",
    "'wed' in today"
   ]
  },
  {
   "cell_type": "code",
   "execution_count": null,
   "id": "ffe025b6",
   "metadata": {},
   "outputs": [],
   "source": [
    "'sun' in today"
   ]
  },
  {
   "cell_type": "code",
   "execution_count": null,
   "id": "5b09f579",
   "metadata": {},
   "outputs": [],
   "source": [
    "'nes' in today"
   ]
  },
  {
   "cell_type": "markdown",
   "id": "8426f3d8",
   "metadata": {},
   "source": [
    "# Concatenation of Strings\n",
    "\n",
    "You can join different strings together otherwise known as concatenation using the + sign. You may have to add a space with the \" \" when concatenating to format the text string properly.\n",
    "\n",
    "Here's an example:"
   ]
  },
  {
   "cell_type": "code",
   "execution_count": null,
   "id": "60788d79",
   "metadata": {},
   "outputs": [],
   "source": [
    "full_name = 'Dominic Igwebuike'"
   ]
  },
  {
   "cell_type": "code",
   "execution_count": null,
   "id": "0c0ee7d2",
   "metadata": {},
   "outputs": [],
   "source": [
    "greeting = 'Hello'"
   ]
  },
  {
   "cell_type": "code",
   "execution_count": null,
   "id": "9c1441b9",
   "metadata": {},
   "outputs": [],
   "source": [
    "salute = greeting + full_name"
   ]
  },
  {
   "cell_type": "code",
   "execution_count": null,
   "id": "1cc47fb1",
   "metadata": {},
   "outputs": [],
   "source": [
    "salute"
   ]
  },
  {
   "cell_type": "code",
   "execution_count": null,
   "id": "c5e76e6a",
   "metadata": {},
   "outputs": [],
   "source": [
    "# let's correct the lack of spacing\n",
    "\n",
    "salute = greeting + \" \" + full_name + \"!\""
   ]
  },
  {
   "cell_type": "code",
   "execution_count": null,
   "id": "c3adf64e",
   "metadata": {},
   "outputs": [],
   "source": [
    "salute"
   ]
  },
  {
   "cell_type": "markdown",
   "id": "ba69b4a7",
   "metadata": {},
   "source": [
    "# String Methods\n",
    "\n",
    "In Python, String have in-built methods that can be used to manipulate them.\n",
    "\n",
    "## Methods:\n",
    "\n",
    "Methods are functions associated with data types and can be accessed using the dot (.) notation.\n",
    "\n",
    "Example: variable_name.method() or \"any_string\".method().\n",
    "\n",
    "Methods are a powerful way to manipulate the values of a specific datatype.\n",
    "\n",
    "### Examples of String Methods\n",
    "\n",
    "1. .lower() turns a string into lowercase\n",
    "2. .upper() turns a string into uppercase\n",
    "3. .capitalize() turns the first character of a string into uppercase\n",
    "\n",
    "4. .replace() replaces a part of a string with another string. It takes the part of the string to be replaced, and the part for replacing it as inputs or arguments.\n",
    "\n",
    "When modifying strings, the original string is not affected by the new modifications.\n"
   ]
  },
  {
   "cell_type": "code",
   "execution_count": 2,
   "id": "ad0596b2",
   "metadata": {},
   "outputs": [],
   "source": [
    "today = \"wednesday\""
   ]
  },
  {
   "cell_type": "code",
   "execution_count": 3,
   "id": "4ffd3b9c",
   "metadata": {},
   "outputs": [
    {
     "data": {
      "text/plain": [
       "'WEDNESDAY'"
      ]
     },
     "execution_count": 3,
     "metadata": {},
     "output_type": "execute_result"
    }
   ],
   "source": [
    "today.upper()"
   ]
  },
  {
   "cell_type": "code",
   "execution_count": 4,
   "id": "844bd454",
   "metadata": {},
   "outputs": [
    {
     "data": {
      "text/plain": [
       "'wednesday'"
      ]
     },
     "execution_count": 4,
     "metadata": {},
     "output_type": "execute_result"
    }
   ],
   "source": [
    "today.lower()"
   ]
  },
  {
   "cell_type": "code",
   "execution_count": 5,
   "id": "39864f89",
   "metadata": {},
   "outputs": [
    {
     "data": {
      "text/plain": [
       "'Wednesday'"
      ]
     },
     "execution_count": 5,
     "metadata": {},
     "output_type": "execute_result"
    }
   ],
   "source": [
    "today.capitalize()"
   ]
  },
  {
   "cell_type": "code",
   "execution_count": 6,
   "id": "524128b9",
   "metadata": {},
   "outputs": [
    {
     "data": {
      "text/plain": [
       "'Thursday'"
      ]
     },
     "execution_count": 6,
     "metadata": {},
     "output_type": "execute_result"
    }
   ],
   "source": [
    "today.replace(\"wednes\", \"Thurs\")"
   ]
  },
  {
   "cell_type": "code",
   "execution_count": 7,
   "id": "89dd58e2",
   "metadata": {},
   "outputs": [
    {
     "data": {
      "text/plain": [
       "'wednesday'"
      ]
     },
     "execution_count": 7,
     "metadata": {},
     "output_type": "execute_result"
    }
   ],
   "source": [
    "# here today the original string or variable is not affected even with all the above modifications\n",
    "\n",
    "today"
   ]
  },
  {
   "cell_type": "markdown",
   "id": "b6496f6d",
   "metadata": {},
   "source": [
    "# More String Methods\n",
    "\n",
    "1. .split() This can used to split a string into a list of strings\n",
    "\n",
    "2. .strip() this is used to remove white space from the beginning and end of a string.\n",
    "\n",
    "3. .format() This is used to combine the values of other data types( e.g. integer, float, boolean) with string values\n",
    "\n"
   ]
  },
  {
   "cell_type": "code",
   "execution_count": 12,
   "id": "25c33765",
   "metadata": {},
   "outputs": [
    {
     "data": {
      "text/plain": [
       "['wednesday', 'thursday', 'friday', ' saturday', ' sunday']"
      ]
     },
     "execution_count": 12,
     "metadata": {},
     "output_type": "execute_result"
    }
   ],
   "source": [
    "\"wednesday,thursday,friday, saturday, sunday\".split(\",\")"
   ]
  },
  {
   "cell_type": "code",
   "execution_count": 13,
   "id": "ca8ee9d0",
   "metadata": {},
   "outputs": [
    {
     "data": {
      "text/plain": [
       "'              blood is thicker than water       '"
      ]
     },
     "execution_count": 13,
     "metadata": {},
     "output_type": "execute_result"
    }
   ],
   "source": [
    "\"              blood is thicker than water       \""
   ]
  },
  {
   "cell_type": "code",
   "execution_count": 14,
   "id": "e4c42425",
   "metadata": {},
   "outputs": [
    {
     "data": {
      "text/plain": [
       "'blood is thicker than water'"
      ]
     },
     "execution_count": 14,
     "metadata": {},
     "output_type": "execute_result"
    }
   ],
   "source": [
    "\"              blood is thicker than water       \".strip()"
   ]
  },
  {
   "cell_type": "code",
   "execution_count": 30,
   "id": "1db60518",
   "metadata": {},
   "outputs": [
    {
     "name": "stdout",
     "output_type": "stream",
     "text": [
      " If a grocery store sells ice bags at $ {} per bag, with a profit margin of {}%, then the total profit it makes by selling {} ice bags is $ {}.\n"
     ]
    }
   ],
   "source": [
    "# Calculate the total profit of selling ice_bag by this trader, given the below values\n",
    "# Input variables\n",
    "cost_of_ice_bag = 50\n",
    "profit_margin = 0.2\n",
    "number_of_bags = 100\n",
    "\n",
    "#template for output message\n",
    "\n",
    "output_template =\"\"\" If a grocery store sells ice bags at $ {} per bag, with a profit margin of {}%, then the total profit it makes by selling {} ice bags is $ {}.\"\"\"\n",
    "\n",
    "print(output_template)"
   ]
  },
  {
   "cell_type": "code",
   "execution_count": 31,
   "id": "fb8a89ec",
   "metadata": {},
   "outputs": [
    {
     "name": "stdout",
     "output_type": "stream",
     "text": [
      "1000.0\n"
     ]
    }
   ],
   "source": [
    "# Inserting values into the string\n",
    "\n",
    "total_profit = cost_of_ice_bag * profit_margin * number_of_bags\n",
    "\n",
    "print(total_profit)"
   ]
  },
  {
   "cell_type": "code",
   "execution_count": 32,
   "id": "15b5e9e2",
   "metadata": {},
   "outputs": [],
   "source": [
    "output_message = output_template.format(cost_of_ice_bag, profit_margin*100, number_of_bags, total_profit)"
   ]
  },
  {
   "cell_type": "code",
   "execution_count": 34,
   "id": "40d82f23",
   "metadata": {},
   "outputs": [
    {
     "name": "stdout",
     "output_type": "stream",
     "text": [
      " If a grocery store sells ice bags at $ 50 per bag, with a profit margin of 20.0%, then the total profit it makes by selling 100 ice bags is $ 1000.0.\n"
     ]
    }
   ],
   "source": [
    "print(output_message)"
   ]
  },
  {
   "cell_type": "markdown",
   "id": "a8eb71d6",
   "metadata": {},
   "source": [
    "## Comparison in strings\n",
    "\n",
    "You can compare string values to find out if they are the same.\n",
    "\n",
    "Here are some examples:"
   ]
  },
  {
   "cell_type": "code",
   "execution_count": 36,
   "id": "06bbb0d2",
   "metadata": {},
   "outputs": [
    {
     "data": {
      "text/plain": [
       "False"
      ]
     },
     "execution_count": 36,
     "metadata": {},
     "output_type": "execute_result"
    }
   ],
   "source": [
    "name = \"Dominic\" # This assigns the string value \"Dominic\" to the variable name\n",
    "\n",
    "name == \"Joe\" # this says that name is equal to \"Joe\" which is False"
   ]
  },
  {
   "cell_type": "code",
   "execution_count": 37,
   "id": "e55ac796",
   "metadata": {},
   "outputs": [
    {
     "data": {
      "text/plain": [
       "True"
      ]
     },
     "execution_count": 37,
     "metadata": {},
     "output_type": "execute_result"
    }
   ],
   "source": [
    "name != \"Joe\""
   ]
  },
  {
   "cell_type": "code",
   "execution_count": 38,
   "id": "39f08e1d",
   "metadata": {},
   "outputs": [
    {
     "data": {
      "text/plain": [
       "True"
      ]
     },
     "execution_count": 38,
     "metadata": {},
     "output_type": "execute_result"
    }
   ],
   "source": [
    "name == \"Dominic\""
   ]
  },
  {
   "cell_type": "markdown",
   "id": "10ab4f05",
   "metadata": {},
   "source": [
    "# Lists in Python\n",
    "\n",
    "List is an ordered collection of values, the values can be of different data types.\n",
    "\n",
    "You can modify the values in a list, you can add, remove values in a list.\n",
    "\n",
    "List has the type list\n",
    "\n",
    "list is created using square brackets [ ] with the list values or items in-between the brackets and separated by commas."
   ]
  },
  {
   "cell_type": "code",
   "execution_count": 1,
   "id": "61992edf",
   "metadata": {},
   "outputs": [],
   "source": [
    "fruits =['guava', 'mango', 'udara', 'utu', 'pawpaw', 'ube']"
   ]
  },
  {
   "cell_type": "code",
   "execution_count": 3,
   "id": "2ede4343",
   "metadata": {},
   "outputs": [
    {
     "data": {
      "text/plain": [
       "['guava', 'mango', 'udara', 'utu', 'pawpaw', 'ube']"
      ]
     },
     "execution_count": 3,
     "metadata": {},
     "output_type": "execute_result"
    }
   ],
   "source": [
    "fruits"
   ]
  },
  {
   "cell_type": "code",
   "execution_count": 4,
   "id": "9f44ad3c",
   "metadata": {},
   "outputs": [
    {
     "data": {
      "text/plain": [
       "6"
      ]
     },
     "execution_count": 4,
     "metadata": {},
     "output_type": "execute_result"
    }
   ],
   "source": [
    "#Use the len() function to find the number of items in a list\n",
    "\n",
    "len(fruits)"
   ]
  },
  {
   "cell_type": "code",
   "execution_count": 5,
   "id": "bf273176",
   "metadata": {},
   "outputs": [
    {
     "data": {
      "text/plain": [
       "'guava'"
      ]
     },
     "execution_count": 5,
     "metadata": {},
     "output_type": "execute_result"
    }
   ],
   "source": [
    "# Every item in a list has an index number and can be accessed using that number.\n",
    "\n",
    "# Index numbers start from 0\n",
    "\n",
    "# Lets access the items in fruits using their index numbers\n",
    "\n",
    "fruits[0]"
   ]
  },
  {
   "cell_type": "code",
   "execution_count": 6,
   "id": "36ae34ed",
   "metadata": {},
   "outputs": [
    {
     "data": {
      "text/plain": [
       "'mango'"
      ]
     },
     "execution_count": 6,
     "metadata": {},
     "output_type": "execute_result"
    }
   ],
   "source": [
    "fruits[1]"
   ]
  },
  {
   "cell_type": "code",
   "execution_count": 8,
   "id": "852e4726",
   "metadata": {},
   "outputs": [
    {
     "data": {
      "text/plain": [
       "'pawpaw'"
      ]
     },
     "execution_count": 8,
     "metadata": {},
     "output_type": "execute_result"
    }
   ],
   "source": [
    "fruits[4]"
   ]
  },
  {
   "cell_type": "code",
   "execution_count": 9,
   "id": "97bf4c5c",
   "metadata": {},
   "outputs": [
    {
     "data": {
      "text/plain": [
       "'utu'"
      ]
     },
     "execution_count": 9,
     "metadata": {},
     "output_type": "execute_result"
    }
   ],
   "source": [
    "fruits[3]"
   ]
  },
  {
   "cell_type": "code",
   "execution_count": 10,
   "id": "ed2e0654",
   "metadata": {},
   "outputs": [
    {
     "data": {
      "text/plain": [
       "'ube'"
      ]
     },
     "execution_count": 10,
     "metadata": {},
     "output_type": "execute_result"
    }
   ],
   "source": [
    "# You can also use negative indexing which starts counting the items in a list from the LHS starting with -1\n",
    "\n",
    "fruits[-1]"
   ]
  },
  {
   "cell_type": "code",
   "execution_count": 11,
   "id": "c79f1895",
   "metadata": {},
   "outputs": [
    {
     "data": {
      "text/plain": [
       "'mango'"
      ]
     },
     "execution_count": 11,
     "metadata": {},
     "output_type": "execute_result"
    }
   ],
   "source": [
    "fruits[-5]"
   ]
  },
  {
   "cell_type": "code",
   "execution_count": 13,
   "id": "6b237367",
   "metadata": {},
   "outputs": [
    {
     "data": {
      "text/plain": [
       "['utu', 'pawpaw']"
      ]
     },
     "execution_count": 13,
     "metadata": {},
     "output_type": "execute_result"
    }
   ],
   "source": [
    "# You can access a select number of items in a list, using the index range.\n",
    "# The range starts from the first index value and ends short of the last index value\n",
    "# Here's an Example:\n",
    "\n",
    "fruits[3:5]"
   ]
  },
  {
   "cell_type": "code",
   "execution_count": 15,
   "id": "02a24e23",
   "metadata": {},
   "outputs": [
    {
     "data": {
      "text/plain": [
       "['guava', 'mango', 'udara', 'utu', 'pawpaw', 'ube']"
      ]
     },
     "execution_count": 15,
     "metadata": {},
     "output_type": "execute_result"
    }
   ],
   "source": [
    "fruits"
   ]
  },
  {
   "cell_type": "code",
   "execution_count": 17,
   "id": "fc6ea482",
   "metadata": {},
   "outputs": [
    {
     "data": {
      "text/plain": [
       "['mango', 'udara', 'utu', 'pawpaw']"
      ]
     },
     "execution_count": 17,
     "metadata": {},
     "output_type": "execute_result"
    }
   ],
   "source": [
    "fruits[1:5]"
   ]
  },
  {
   "cell_type": "markdown",
   "id": "b63042c4",
   "metadata": {},
   "source": [
    "## Change an item in a list and replace it with another item.\n",
    "\n",
    "For example, change 'utu' in the list fruits and replace it with pineapple.\n",
    "\n",
    "You will need to get the index value of utu and then assign a new  value 'pineapple' to it.\n",
    "\n",
    "Here's how to do it."
   ]
  },
  {
   "cell_type": "code",
   "execution_count": 18,
   "id": "d70b279d",
   "metadata": {},
   "outputs": [],
   "source": [
    "fruits[3] = 'pineapple'"
   ]
  },
  {
   "cell_type": "code",
   "execution_count": 19,
   "id": "e812b77d",
   "metadata": {},
   "outputs": [
    {
     "data": {
      "text/plain": [
       "['guava', 'mango', 'udara', 'pineapple', 'pawpaw', 'ube']"
      ]
     },
     "execution_count": 19,
     "metadata": {},
     "output_type": "execute_result"
    }
   ],
   "source": [
    "fruits"
   ]
  },
  {
   "cell_type": "markdown",
   "id": "43710409",
   "metadata": {},
   "source": [
    "# List Methods\n",
    "\n",
    "List has a few methods that can be used to modify and manipulate it.\n",
    "\n",
    "1. .append() this is used to add a new item to the end of a list\n",
    "\n",
    "2. .insert() this is used to insert an item at a specified index value.\n",
    "\n",
    "3. .remove() this is used to remove an item from a list\n",
    "\n",
    "4. .pop() this is used to remove an item at a specified index value\n",
    "\n",
    "Difference between .pop() and .remove() methods is that .pop() takes the index value of item as the argument and then deletes the item, while .remove() takes the item name directly.\n"
   ]
  },
  {
   "cell_type": "code",
   "execution_count": 41,
   "id": "0a964a51",
   "metadata": {},
   "outputs": [],
   "source": [
    "# Examples\n",
    "\n",
    "cars = ['camaro', 'spider', 'es 350 lexus', 'c300 benz', 'venza']"
   ]
  },
  {
   "cell_type": "code",
   "execution_count": 48,
   "id": "145e0f08",
   "metadata": {},
   "outputs": [
    {
     "data": {
      "text/plain": [
       "['camaro',\n",
       " 'spider',\n",
       " 'es 350 lexus',\n",
       " 'c300 benz',\n",
       " 'venza',\n",
       " 'G-wagon Brabus',\n",
       " 'G-wagon Brabus']"
      ]
     },
     "execution_count": 48,
     "metadata": {},
     "output_type": "execute_result"
    }
   ],
   "source": [
    "cars"
   ]
  },
  {
   "cell_type": "code",
   "execution_count": 49,
   "id": "7abaf3fe",
   "metadata": {},
   "outputs": [],
   "source": [
    "cars.remove('G-wagon Brabus')"
   ]
  },
  {
   "cell_type": "code",
   "execution_count": 50,
   "id": "802cc16b",
   "metadata": {},
   "outputs": [
    {
     "data": {
      "text/plain": [
       "['camaro', 'spider', 'es 350 lexus', 'c300 benz', 'venza', 'G-wagon Brabus']"
      ]
     },
     "execution_count": 50,
     "metadata": {},
     "output_type": "execute_result"
    }
   ],
   "source": [
    "cars"
   ]
  },
  {
   "cell_type": "code",
   "execution_count": 51,
   "id": "e8dd49a4",
   "metadata": {},
   "outputs": [],
   "source": [
    "cars.remove('G-wagon Brabus')"
   ]
  },
  {
   "cell_type": "code",
   "execution_count": 52,
   "id": "599042bb",
   "metadata": {},
   "outputs": [
    {
     "data": {
      "text/plain": [
       "['camaro', 'spider', 'es 350 lexus', 'c300 benz', 'venza']"
      ]
     },
     "execution_count": 52,
     "metadata": {},
     "output_type": "execute_result"
    }
   ],
   "source": [
    "cars"
   ]
  },
  {
   "cell_type": "code",
   "execution_count": 53,
   "id": "b4824ba6",
   "metadata": {},
   "outputs": [],
   "source": [
    "cars.insert(2, 'my favorite now')"
   ]
  },
  {
   "cell_type": "code",
   "execution_count": 54,
   "id": "880d1cab",
   "metadata": {},
   "outputs": [
    {
     "data": {
      "text/plain": [
       "['camaro', 'spider', 'my favorite now', 'es 350 lexus', 'c300 benz', 'venza']"
      ]
     },
     "execution_count": 54,
     "metadata": {},
     "output_type": "execute_result"
    }
   ],
   "source": [
    "cars"
   ]
  },
  {
   "cell_type": "code",
   "execution_count": 55,
   "id": "c1486d0b",
   "metadata": {},
   "outputs": [],
   "source": [
    "cars.remove('my favorite now')"
   ]
  },
  {
   "cell_type": "code",
   "execution_count": 56,
   "id": "584aadd0",
   "metadata": {},
   "outputs": [
    {
     "data": {
      "text/plain": [
       "['camaro', 'spider', 'es 350 lexus', 'c300 benz', 'venza']"
      ]
     },
     "execution_count": 56,
     "metadata": {},
     "output_type": "execute_result"
    }
   ],
   "source": [
    "cars"
   ]
  },
  {
   "cell_type": "code",
   "execution_count": 57,
   "id": "b54ab07c",
   "metadata": {},
   "outputs": [
    {
     "data": {
      "text/plain": [
       "'c300 benz'"
      ]
     },
     "execution_count": 57,
     "metadata": {},
     "output_type": "execute_result"
    }
   ],
   "source": [
    "cars.pop(3)"
   ]
  },
  {
   "cell_type": "code",
   "execution_count": 58,
   "id": "433102c2",
   "metadata": {},
   "outputs": [
    {
     "data": {
      "text/plain": [
       "['camaro', 'spider', 'es 350 lexus', 'venza']"
      ]
     },
     "execution_count": 58,
     "metadata": {},
     "output_type": "execute_result"
    }
   ],
   "source": [
    "cars"
   ]
  },
  {
   "cell_type": "code",
   "execution_count": 59,
   "id": "22986405",
   "metadata": {},
   "outputs": [
    {
     "data": {
      "text/plain": [
       "'venza'"
      ]
     },
     "execution_count": 59,
     "metadata": {},
     "output_type": "execute_result"
    }
   ],
   "source": [
    "# if no item is spacified for .pop() it will remove the last element in the list\n",
    "\n",
    "# Here's an Example:\n",
    "\n",
    "cars.pop()"
   ]
  },
  {
   "cell_type": "code",
   "execution_count": 60,
   "id": "1cbfe988",
   "metadata": {},
   "outputs": [
    {
     "data": {
      "text/plain": [
       "['camaro', 'spider', 'es 350 lexus']"
      ]
     },
     "execution_count": 60,
     "metadata": {},
     "output_type": "execute_result"
    }
   ],
   "source": [
    "cars"
   ]
  },
  {
   "cell_type": "markdown",
   "id": "7acfd983",
   "metadata": {},
   "source": [
    "# Check if a List contains an element or item using the (in) keyword"
   ]
  },
  {
   "cell_type": "code",
   "execution_count": 61,
   "id": "13913992",
   "metadata": {},
   "outputs": [],
   "source": [
    "sweetfruits = ['mango', 'white guava', 'pear', 'peach', 'udara', 'orange']"
   ]
  },
  {
   "cell_type": "code",
   "execution_count": 62,
   "id": "01abba2d",
   "metadata": {},
   "outputs": [
    {
     "data": {
      "text/plain": [
       "['mango', 'white guava', 'pear', 'peach', 'udara', 'orange']"
      ]
     },
     "execution_count": 62,
     "metadata": {},
     "output_type": "execute_result"
    }
   ],
   "source": [
    "sweetfruits"
   ]
  },
  {
   "cell_type": "code",
   "execution_count": 64,
   "id": "d268c91b",
   "metadata": {},
   "outputs": [
    {
     "data": {
      "text/plain": [
       "False"
      ]
     },
     "execution_count": 64,
     "metadata": {},
     "output_type": "execute_result"
    }
   ],
   "source": [
    "'avocado' in sweetfruits"
   ]
  },
  {
   "cell_type": "code",
   "execution_count": 65,
   "id": "cad2b625",
   "metadata": {},
   "outputs": [
    {
     "data": {
      "text/plain": [
       "True"
      ]
     },
     "execution_count": 65,
     "metadata": {},
     "output_type": "execute_result"
    }
   ],
   "source": [
    "'mango' in sweetfruits"
   ]
  },
  {
   "cell_type": "code",
   "execution_count": 66,
   "id": "b8cc33d6",
   "metadata": {},
   "outputs": [
    {
     "data": {
      "text/plain": [
       "True"
      ]
     },
     "execution_count": 66,
     "metadata": {},
     "output_type": "execute_result"
    }
   ],
   "source": [
    "'white guava' in sweetfruits"
   ]
  },
  {
   "cell_type": "code",
   "execution_count": 67,
   "id": "a7aa3f6f",
   "metadata": {},
   "outputs": [
    {
     "data": {
      "text/plain": [
       "False"
      ]
     },
     "execution_count": 67,
     "metadata": {},
     "output_type": "execute_result"
    }
   ],
   "source": [
    "'papaya' in sweetfruits\n"
   ]
  },
  {
   "cell_type": "markdown",
   "id": "f492fdfb",
   "metadata": {},
   "source": [
    "# List Concatenation\n",
    "\n",
    "You can combine two or more lists together using the (+) sign just like for strings"
   ]
  },
  {
   "cell_type": "code",
   "execution_count": 75,
   "id": "dc7c4c76",
   "metadata": {},
   "outputs": [],
   "source": [
    "# list concatenation example\n",
    "\n",
    "fruits_i_like = ['mango', 'pineapple', 'pear', 'apple', 'oranges', 'date']\n",
    "\n",
    "fruits_i_want = ['coconut', 'cashew', 'ukoro', 'ube', 'oka', 'banana']\n"
   ]
  },
  {
   "cell_type": "code",
   "execution_count": 76,
   "id": "3bfa766c",
   "metadata": {},
   "outputs": [
    {
     "data": {
      "text/plain": [
       "['mango', 'pineapple', 'pear', 'apple', 'oranges', 'date']"
      ]
     },
     "execution_count": 76,
     "metadata": {},
     "output_type": "execute_result"
    }
   ],
   "source": [
    "fruits_i_like"
   ]
  },
  {
   "cell_type": "code",
   "execution_count": 77,
   "id": "777151e8",
   "metadata": {},
   "outputs": [
    {
     "data": {
      "text/plain": [
       "['coconut', 'cashew', 'ukoro', 'ube', 'oka', 'banana']"
      ]
     },
     "execution_count": 77,
     "metadata": {},
     "output_type": "execute_result"
    }
   ],
   "source": [
    "fruits_i_want"
   ]
  },
  {
   "cell_type": "code",
   "execution_count": 78,
   "id": "8ef98440",
   "metadata": {},
   "outputs": [],
   "source": [
    "my_fruits_basket = fruits_i_like + fruits_i_want"
   ]
  },
  {
   "cell_type": "code",
   "execution_count": 79,
   "id": "b4fd27e7",
   "metadata": {},
   "outputs": [
    {
     "data": {
      "text/plain": [
       "['mango',\n",
       " 'pineapple',\n",
       " 'pear',\n",
       " 'apple',\n",
       " 'oranges',\n",
       " 'date',\n",
       " 'coconut',\n",
       " 'cashew',\n",
       " 'ukoro',\n",
       " 'ube',\n",
       " 'oka',\n",
       " 'banana']"
      ]
     },
     "execution_count": 79,
     "metadata": {},
     "output_type": "execute_result"
    }
   ],
   "source": [
    "my_fruits_basket"
   ]
  },
  {
   "cell_type": "markdown",
   "id": "ede69d8e",
   "metadata": {},
   "source": [
    "# Create a Copy of a List with the .copy() method.\n",
    "\n",
    "You can create a copy of a list with the .copy() method. If you modify the copied list, the original list doesn't get affected."
   ]
  },
  {
   "cell_type": "code",
   "execution_count": 83,
   "id": "a0e96812",
   "metadata": {},
   "outputs": [],
   "source": [
    "new_copy = my_fruits_basket.copy()"
   ]
  },
  {
   "cell_type": "code",
   "execution_count": 84,
   "id": "ab805717",
   "metadata": {},
   "outputs": [
    {
     "data": {
      "text/plain": [
       "['mango',\n",
       " 'pineapple',\n",
       " 'pear',\n",
       " 'apple',\n",
       " 'oranges',\n",
       " 'date',\n",
       " 'coconut',\n",
       " 'cashew',\n",
       " 'ukoro',\n",
       " 'ube',\n",
       " 'oka',\n",
       " 'banana']"
      ]
     },
     "execution_count": 84,
     "metadata": {},
     "output_type": "execute_result"
    }
   ],
   "source": [
    "new_copy"
   ]
  },
  {
   "cell_type": "code",
   "execution_count": 86,
   "id": "a3833384",
   "metadata": {},
   "outputs": [
    {
     "data": {
      "text/plain": [
       "'mango'"
      ]
     },
     "execution_count": 86,
     "metadata": {},
     "output_type": "execute_result"
    }
   ],
   "source": [
    "# Let's modify the list\n",
    "\n",
    "new_copy.pop(0)"
   ]
  },
  {
   "cell_type": "code",
   "execution_count": 87,
   "id": "43272396",
   "metadata": {},
   "outputs": [
    {
     "data": {
      "text/plain": [
       "['pineapple',\n",
       " 'pear',\n",
       " 'apple',\n",
       " 'oranges',\n",
       " 'date',\n",
       " 'coconut',\n",
       " 'cashew',\n",
       " 'ukoro',\n",
       " 'ube',\n",
       " 'oka',\n",
       " 'banana']"
      ]
     },
     "execution_count": 87,
     "metadata": {},
     "output_type": "execute_result"
    }
   ],
   "source": [
    "new_copy"
   ]
  },
  {
   "cell_type": "code",
   "execution_count": 88,
   "id": "d3ba9467",
   "metadata": {},
   "outputs": [
    {
     "data": {
      "text/plain": [
       "['mango',\n",
       " 'pineapple',\n",
       " 'pear',\n",
       " 'apple',\n",
       " 'oranges',\n",
       " 'date',\n",
       " 'coconut',\n",
       " 'cashew',\n",
       " 'ukoro',\n",
       " 'ube',\n",
       " 'oka',\n",
       " 'banana']"
      ]
     },
     "execution_count": 88,
     "metadata": {},
     "output_type": "execute_result"
    }
   ],
   "source": [
    "# Original list is not affected\n",
    "\n",
    "my_fruits_basket"
   ]
  },
  {
   "cell_type": "code",
   "execution_count": null,
   "id": "86589909",
   "metadata": {},
   "outputs": [],
   "source": []
  }
 ],
 "metadata": {
  "kernelspec": {
   "display_name": "Python 3",
   "language": "python",
   "name": "python3"
  },
  "language_info": {
   "codemirror_mode": {
    "name": "ipython",
    "version": 3
   },
   "file_extension": ".py",
   "mimetype": "text/x-python",
   "name": "python",
   "nbconvert_exporter": "python",
   "pygments_lexer": "ipython3",
   "version": "3.9.4"
  }
 },
 "nbformat": 4,
 "nbformat_minor": 5
}
