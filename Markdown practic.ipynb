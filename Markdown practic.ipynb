{
 "cells": [
  {
   "cell_type": "markdown",
   "id": "b1acead7",
   "metadata": {},
   "source": [
    "# This is a headline\n",
    "\n",
    "[this is a link]\n",
    "\n",
    "* this is a bullet\n",
    "* Another bullet\n",
    "\n",
    "**this is bold**\n",
    "\n",
    "*this is italic*\n",
    "\n",
    "\n"
   ]
  },
  {
   "cell_type": "code",
   "execution_count": null,
   "id": "65c45090",
   "metadata": {},
   "outputs": [],
   "source": []
  }
 ],
 "metadata": {
  "kernelspec": {
   "display_name": "Python 3",
   "language": "python",
   "name": "python3"
  },
  "language_info": {
   "codemirror_mode": {
    "name": "ipython",
    "version": 3
   },
   "file_extension": ".py",
   "mimetype": "text/x-python",
   "name": "python",
   "nbconvert_exporter": "python",
   "pygments_lexer": "ipython3",
   "version": "3.9.4"
  }
 },
 "nbformat": 4,
 "nbformat_minor": 5
}
